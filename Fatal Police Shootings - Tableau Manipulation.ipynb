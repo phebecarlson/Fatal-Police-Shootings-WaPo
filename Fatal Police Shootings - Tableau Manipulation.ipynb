{
 "cells": [
  {
   "cell_type": "markdown",
   "id": "b1ccdef0",
   "metadata": {},
   "source": [
    "## Craft a Story from a Dataset"
   ]
  },
  {
   "cell_type": "markdown",
   "id": "8a98bc83",
   "metadata": {},
   "source": [
    "Make sure that your story is appropriate to the audience type you selected.\n",
    "\n",
    "Submit links to a GitHub repository containing a Jupyter Notebook or a PowerPoint. The file should contain:\n",
    "\n",
    "1. The questions you asked\n",
    "2. The trends you investigated\n",
    "3. The resulting visualizations and conclusions"
   ]
  },
  {
   "cell_type": "markdown",
   "id": "f5420dec",
   "metadata": {},
   "source": [
    "Exercise Steps\n",
    "1. Select a dataset - any dataset! Make sure it's not too dirty, as this case study is\n",
    "about storytelling, not cleaning... :)\n",
    "2. Pick your audience: executive, technical, or non-technical; and adjust your tone\n",
    "accordingly.\n",
    "3. Take a look at the data: explore it.\n",
    "4. Think of a narrative, and pursue it.\n",
    "5. Give a 15 mins presentation to your mentor during your next call. "
   ]
  },
  {
   "cell_type": "markdown",
   "id": "06e73224",
   "metadata": {},
   "source": [
    "In your quest, you might need to ask a bunch of other questions, such as:\n",
    "\n",
    "● Can I count something interesting?\n",
    "\n",
    "● Can I find trends (e.g. high, low, increasing, decreasing, anomalies)?\n",
    "\n",
    "● Can I make a bar plot or a histogram?\n",
    "\n",
    "● Can I compare two related quantities? \n",
    "\n",
    "● Can I make a scatterplot?\n",
    "\n",
    "● Can I make a time-series plot?\n",
    "\n",
    "● Looking at the plots, what are some insights I can make?\n",
    "\n",
    "● Can I see any correlations?\n",
    "\n",
    "● Is there a hypothesis I can - and should - investigate further?\n",
    "\n",
    "● What other questions are the insights leading me to ask? "
   ]
  },
  {
   "cell_type": "code",
   "execution_count": 66,
   "id": "881cc59e",
   "metadata": {},
   "outputs": [],
   "source": [
    "import pandas as pd\n",
    "import numpy as np\n",
    "import matplotlib.pyplot as plt\n",
    "import seaborn as sns\n",
    "import missingno as msno\n",
    "%matplotlib inline\n",
    "import os\n",
    "from warnings import simplefilter\n",
    "# ignore all future warnings\n",
    "simplefilter(action='ignore', category=FutureWarning)\n",
    "\n",
    "from imblearn.over_sampling import RandomOverSampler\n",
    "from imblearn.under_sampling import RandomUnderSampler\n",
    "from collections import Counter\n",
    "\n",
    "from dython.nominal import associations, numerical_encoding, cluster_correlations\n",
    "from dython.data_utils import split_hist\n",
    "\n",
    "from sklearn.preprocessing import LabelEncoder\n",
    "import plotly.express as px\n",
    "import plotly.graph_objects as go\n"
   ]
  },
  {
   "cell_type": "code",
   "execution_count": 67,
   "id": "4cf944af",
   "metadata": {},
   "outputs": [],
   "source": [
    "sns.set_theme(style='whitegrid', palette='pastel')"
   ]
  },
  {
   "cell_type": "code",
   "execution_count": 68,
   "id": "3ded736f",
   "metadata": {},
   "outputs": [],
   "source": [
    "url = \"https://raw.githubusercontent.com/washingtonpost/data-police-shootings/master/fatal-police-shootings-data.csv\"\n",
    "data = pd.read_csv(url)\n",
    "df = data"
   ]
  },
  {
   "cell_type": "code",
   "execution_count": 69,
   "id": "c4a64191",
   "metadata": {},
   "outputs": [
    {
     "data": {
      "text/html": [
       "<div>\n",
       "<style scoped>\n",
       "    .dataframe tbody tr th:only-of-type {\n",
       "        vertical-align: middle;\n",
       "    }\n",
       "\n",
       "    .dataframe tbody tr th {\n",
       "        vertical-align: top;\n",
       "    }\n",
       "\n",
       "    .dataframe thead th {\n",
       "        text-align: right;\n",
       "    }\n",
       "</style>\n",
       "<table border=\"1\" class=\"dataframe\">\n",
       "  <thead>\n",
       "    <tr style=\"text-align: right;\">\n",
       "      <th></th>\n",
       "      <th>id</th>\n",
       "      <th>age</th>\n",
       "      <th>longitude</th>\n",
       "      <th>latitude</th>\n",
       "    </tr>\n",
       "  </thead>\n",
       "  <tbody>\n",
       "    <tr>\n",
       "      <th>count</th>\n",
       "      <td>7585.000000</td>\n",
       "      <td>7128.000000</td>\n",
       "      <td>6812.000000</td>\n",
       "      <td>6812.000000</td>\n",
       "    </tr>\n",
       "    <tr>\n",
       "      <th>mean</th>\n",
       "      <td>4191.009492</td>\n",
       "      <td>37.156846</td>\n",
       "      <td>-97.051749</td>\n",
       "      <td>36.665660</td>\n",
       "    </tr>\n",
       "    <tr>\n",
       "      <th>std</th>\n",
       "      <td>2369.576563</td>\n",
       "      <td>12.946711</td>\n",
       "      <td>16.602351</td>\n",
       "      <td>5.395637</td>\n",
       "    </tr>\n",
       "    <tr>\n",
       "      <th>min</th>\n",
       "      <td>3.000000</td>\n",
       "      <td>2.000000</td>\n",
       "      <td>-160.007000</td>\n",
       "      <td>19.498000</td>\n",
       "    </tr>\n",
       "    <tr>\n",
       "      <th>25%</th>\n",
       "      <td>2129.000000</td>\n",
       "      <td>27.000000</td>\n",
       "      <td>-112.039750</td>\n",
       "      <td>33.479750</td>\n",
       "    </tr>\n",
       "    <tr>\n",
       "      <th>50%</th>\n",
       "      <td>4217.000000</td>\n",
       "      <td>35.000000</td>\n",
       "      <td>-94.226000</td>\n",
       "      <td>36.093000</td>\n",
       "    </tr>\n",
       "    <tr>\n",
       "      <th>75%</th>\n",
       "      <td>6246.000000</td>\n",
       "      <td>45.000000</td>\n",
       "      <td>-83.073250</td>\n",
       "      <td>40.023500</td>\n",
       "    </tr>\n",
       "    <tr>\n",
       "      <th>max</th>\n",
       "      <td>8262.000000</td>\n",
       "      <td>92.000000</td>\n",
       "      <td>-67.867000</td>\n",
       "      <td>71.301000</td>\n",
       "    </tr>\n",
       "  </tbody>\n",
       "</table>\n",
       "</div>"
      ],
      "text/plain": [
       "                id          age    longitude     latitude\n",
       "count  7585.000000  7128.000000  6812.000000  6812.000000\n",
       "mean   4191.009492    37.156846   -97.051749    36.665660\n",
       "std    2369.576563    12.946711    16.602351     5.395637\n",
       "min       3.000000     2.000000  -160.007000    19.498000\n",
       "25%    2129.000000    27.000000  -112.039750    33.479750\n",
       "50%    4217.000000    35.000000   -94.226000    36.093000\n",
       "75%    6246.000000    45.000000   -83.073250    40.023500\n",
       "max    8262.000000    92.000000   -67.867000    71.301000"
      ]
     },
     "execution_count": 69,
     "metadata": {},
     "output_type": "execute_result"
    }
   ],
   "source": [
    "df.describe()"
   ]
  },
  {
   "cell_type": "code",
   "execution_count": 70,
   "id": "4b49fa8a",
   "metadata": {},
   "outputs": [
    {
     "name": "stdout",
     "output_type": "stream",
     "text": [
      "<class 'pandas.core.frame.DataFrame'>\n",
      "RangeIndex: 7585 entries, 0 to 7584\n",
      "Data columns (total 17 columns):\n",
      " #   Column                   Non-Null Count  Dtype  \n",
      "---  ------                   --------------  -----  \n",
      " 0   id                       7585 non-null   int64  \n",
      " 1   name                     7190 non-null   object \n",
      " 2   date                     7585 non-null   object \n",
      " 3   manner_of_death          7585 non-null   object \n",
      " 4   armed                    7376 non-null   object \n",
      " 5   age                      7128 non-null   float64\n",
      " 6   gender                   7568 non-null   object \n",
      " 7   race                     6178 non-null   object \n",
      " 8   city                     7585 non-null   object \n",
      " 9   state                    7585 non-null   object \n",
      " 10  signs_of_mental_illness  7585 non-null   bool   \n",
      " 11  threat_level             7585 non-null   object \n",
      " 12  flee                     6776 non-null   object \n",
      " 13  body_camera              7585 non-null   bool   \n",
      " 14  longitude                6812 non-null   float64\n",
      " 15  latitude                 6812 non-null   float64\n",
      " 16  is_geocoding_exact       7585 non-null   bool   \n",
      "dtypes: bool(3), float64(3), int64(1), object(10)\n",
      "memory usage: 852.0+ KB\n"
     ]
    }
   ],
   "source": [
    "df.info()"
   ]
  },
  {
   "cell_type": "code",
   "execution_count": 71,
   "id": "821fbaa9",
   "metadata": {},
   "outputs": [
    {
     "data": {
      "text/html": [
       "<div>\n",
       "<style scoped>\n",
       "    .dataframe tbody tr th:only-of-type {\n",
       "        vertical-align: middle;\n",
       "    }\n",
       "\n",
       "    .dataframe tbody tr th {\n",
       "        vertical-align: top;\n",
       "    }\n",
       "\n",
       "    .dataframe thead th {\n",
       "        text-align: right;\n",
       "    }\n",
       "</style>\n",
       "<table border=\"1\" class=\"dataframe\">\n",
       "  <thead>\n",
       "    <tr style=\"text-align: right;\">\n",
       "      <th></th>\n",
       "      <th>id</th>\n",
       "      <th>name</th>\n",
       "      <th>date</th>\n",
       "      <th>manner_of_death</th>\n",
       "      <th>armed</th>\n",
       "      <th>age</th>\n",
       "      <th>gender</th>\n",
       "      <th>race</th>\n",
       "      <th>city</th>\n",
       "      <th>state</th>\n",
       "      <th>signs_of_mental_illness</th>\n",
       "      <th>threat_level</th>\n",
       "      <th>flee</th>\n",
       "      <th>body_camera</th>\n",
       "      <th>longitude</th>\n",
       "      <th>latitude</th>\n",
       "      <th>is_geocoding_exact</th>\n",
       "    </tr>\n",
       "  </thead>\n",
       "  <tbody>\n",
       "    <tr>\n",
       "      <th>0</th>\n",
       "      <td>3</td>\n",
       "      <td>Tim Elliot</td>\n",
       "      <td>2015-01-02</td>\n",
       "      <td>shot</td>\n",
       "      <td>gun</td>\n",
       "      <td>53.0</td>\n",
       "      <td>M</td>\n",
       "      <td>A</td>\n",
       "      <td>Shelton</td>\n",
       "      <td>WA</td>\n",
       "      <td>True</td>\n",
       "      <td>attack</td>\n",
       "      <td>Not fleeing</td>\n",
       "      <td>False</td>\n",
       "      <td>-123.122</td>\n",
       "      <td>47.247</td>\n",
       "      <td>True</td>\n",
       "    </tr>\n",
       "    <tr>\n",
       "      <th>1</th>\n",
       "      <td>4</td>\n",
       "      <td>Lewis Lee Lembke</td>\n",
       "      <td>2015-01-02</td>\n",
       "      <td>shot</td>\n",
       "      <td>gun</td>\n",
       "      <td>47.0</td>\n",
       "      <td>M</td>\n",
       "      <td>W</td>\n",
       "      <td>Aloha</td>\n",
       "      <td>OR</td>\n",
       "      <td>False</td>\n",
       "      <td>attack</td>\n",
       "      <td>Not fleeing</td>\n",
       "      <td>False</td>\n",
       "      <td>-122.892</td>\n",
       "      <td>45.487</td>\n",
       "      <td>True</td>\n",
       "    </tr>\n",
       "    <tr>\n",
       "      <th>2</th>\n",
       "      <td>5</td>\n",
       "      <td>John Paul Quintero</td>\n",
       "      <td>2015-01-03</td>\n",
       "      <td>shot and Tasered</td>\n",
       "      <td>unarmed</td>\n",
       "      <td>23.0</td>\n",
       "      <td>M</td>\n",
       "      <td>H</td>\n",
       "      <td>Wichita</td>\n",
       "      <td>KS</td>\n",
       "      <td>False</td>\n",
       "      <td>other</td>\n",
       "      <td>Not fleeing</td>\n",
       "      <td>False</td>\n",
       "      <td>-97.281</td>\n",
       "      <td>37.695</td>\n",
       "      <td>True</td>\n",
       "    </tr>\n",
       "    <tr>\n",
       "      <th>3</th>\n",
       "      <td>8</td>\n",
       "      <td>Matthew Hoffman</td>\n",
       "      <td>2015-01-04</td>\n",
       "      <td>shot</td>\n",
       "      <td>toy weapon</td>\n",
       "      <td>32.0</td>\n",
       "      <td>M</td>\n",
       "      <td>W</td>\n",
       "      <td>San Francisco</td>\n",
       "      <td>CA</td>\n",
       "      <td>True</td>\n",
       "      <td>attack</td>\n",
       "      <td>Not fleeing</td>\n",
       "      <td>False</td>\n",
       "      <td>-122.422</td>\n",
       "      <td>37.763</td>\n",
       "      <td>True</td>\n",
       "    </tr>\n",
       "    <tr>\n",
       "      <th>4</th>\n",
       "      <td>9</td>\n",
       "      <td>Michael Rodriguez</td>\n",
       "      <td>2015-01-04</td>\n",
       "      <td>shot</td>\n",
       "      <td>nail gun</td>\n",
       "      <td>39.0</td>\n",
       "      <td>M</td>\n",
       "      <td>H</td>\n",
       "      <td>Evans</td>\n",
       "      <td>CO</td>\n",
       "      <td>False</td>\n",
       "      <td>attack</td>\n",
       "      <td>Not fleeing</td>\n",
       "      <td>False</td>\n",
       "      <td>-104.692</td>\n",
       "      <td>40.384</td>\n",
       "      <td>True</td>\n",
       "    </tr>\n",
       "  </tbody>\n",
       "</table>\n",
       "</div>"
      ],
      "text/plain": [
       "   id                name        date   manner_of_death       armed   age  \\\n",
       "0   3          Tim Elliot  2015-01-02              shot         gun  53.0   \n",
       "1   4    Lewis Lee Lembke  2015-01-02              shot         gun  47.0   \n",
       "2   5  John Paul Quintero  2015-01-03  shot and Tasered     unarmed  23.0   \n",
       "3   8     Matthew Hoffman  2015-01-04              shot  toy weapon  32.0   \n",
       "4   9   Michael Rodriguez  2015-01-04              shot    nail gun  39.0   \n",
       "\n",
       "  gender race           city state  signs_of_mental_illness threat_level  \\\n",
       "0      M    A        Shelton    WA                     True       attack   \n",
       "1      M    W          Aloha    OR                    False       attack   \n",
       "2      M    H        Wichita    KS                    False        other   \n",
       "3      M    W  San Francisco    CA                     True       attack   \n",
       "4      M    H          Evans    CO                    False       attack   \n",
       "\n",
       "          flee  body_camera  longitude  latitude  is_geocoding_exact  \n",
       "0  Not fleeing        False   -123.122    47.247                True  \n",
       "1  Not fleeing        False   -122.892    45.487                True  \n",
       "2  Not fleeing        False    -97.281    37.695                True  \n",
       "3  Not fleeing        False   -122.422    37.763                True  \n",
       "4  Not fleeing        False   -104.692    40.384                True  "
      ]
     },
     "execution_count": 71,
     "metadata": {},
     "output_type": "execute_result"
    }
   ],
   "source": [
    "df.head(5)"
   ]
  },
  {
   "cell_type": "code",
   "execution_count": 72,
   "id": "a73a601c",
   "metadata": {
    "scrolled": true
   },
   "outputs": [
    {
     "data": {
      "text/plain": [
       "id                            0\n",
       "name                        395\n",
       "date                          0\n",
       "manner_of_death               0\n",
       "armed                       209\n",
       "age                         457\n",
       "gender                       17\n",
       "race                       1407\n",
       "city                          0\n",
       "state                         0\n",
       "signs_of_mental_illness       0\n",
       "threat_level                  0\n",
       "flee                        809\n",
       "body_camera                   0\n",
       "longitude                   773\n",
       "latitude                    773\n",
       "is_geocoding_exact            0\n",
       "dtype: int64"
      ]
     },
     "execution_count": 72,
     "metadata": {},
     "output_type": "execute_result"
    }
   ],
   "source": [
    "df.isna().sum()"
   ]
  },
  {
   "cell_type": "code",
   "execution_count": 73,
   "id": "e7b2605f",
   "metadata": {},
   "outputs": [
    {
     "data": {
      "text/plain": [
       "'2022-07-20'"
      ]
     },
     "execution_count": 73,
     "metadata": {},
     "output_type": "execute_result"
    }
   ],
   "source": [
    "df['date'].max()\n",
    "# downloaded dataframe earlier than this?"
   ]
  },
  {
   "cell_type": "code",
   "execution_count": 74,
   "id": "bce4bf65",
   "metadata": {
    "scrolled": true
   },
   "outputs": [
    {
     "name": "stdout",
     "output_type": "stream",
     "text": [
      "Number of Unique Values by Column\n",
      "\n"
     ]
    },
    {
     "data": {
      "text/plain": [
       "is_geocoding_exact            2\n",
       "body_camera                   2\n",
       "manner_of_death               2\n",
       "gender                        2\n",
       "signs_of_mental_illness       2\n",
       "threat_level                  3\n",
       "flee                          4\n",
       "race                          6\n",
       "state                        51\n",
       "age                          81\n",
       "armed                       101\n",
       "date                       2573\n",
       "city                       3121\n",
       "latitude                   5279\n",
       "longitude                  5968\n",
       "name                       7157\n",
       "id                         7585\n",
       "dtype: int64"
      ]
     },
     "execution_count": 74,
     "metadata": {},
     "output_type": "execute_result"
    }
   ],
   "source": [
    "nunique = df.nunique().sort_values()\n",
    "print('Number of Unique Values by Column' + '\\n')\n",
    "nunique"
   ]
  },
  {
   "cell_type": "code",
   "execution_count": 75,
   "id": "f83f9a05",
   "metadata": {
    "scrolled": true
   },
   "outputs": [
    {
     "name": "stdout",
     "output_type": "stream",
     "text": [
      "List of Unique Values by Column\n",
      "\n",
      "\n",
      "id:  [   3    4    5 ... 8255 8256 8261] \n",
      "\n",
      "name:  ['Tim Elliot' 'Lewis Lee Lembke' 'John Paul Quintero' ... 'Matthew Davis'\n",
      " 'Molka Horton' 'Jason Lipscomb'] \n",
      "\n",
      "date:  ['2015-01-02' '2015-01-03' '2015-01-04' ... '2022-07-18' '2022-07-19'\n",
      " '2022-07-20'] \n",
      "\n",
      "manner_of_death:  ['shot' 'shot and Tasered'] \n",
      "\n",
      "armed:  ['gun' 'unarmed' 'toy weapon' 'nail gun' 'knife' nan 'shovel' 'vehicle'\n",
      " 'hammer' 'hatchet' 'sword' 'machete' 'box cutter' 'undetermined'\n",
      " 'metal object' 'screwdriver' 'lawn mower blade' 'flagpole'\n",
      " 'guns and explosives' 'cordless drill' 'crossbow' 'BB gun' 'metal pole'\n",
      " 'Taser' 'metal pipe' 'metal hand tool' 'blunt object' 'metal stick'\n",
      " 'sharp object' 'meat cleaver' 'carjack' 'chain' \"contractor's level\"\n",
      " 'railroad spikes' 'stapler' 'beer bottle' 'unknown weapon' 'binoculars'\n",
      " 'pellet gun' 'bean-bag gun' 'baseball bat and fireplace poker'\n",
      " 'straight edge razor' 'gun and knife' 'ax' 'brick' 'baseball bat'\n",
      " 'hand torch' 'chain saw' 'garden tool' 'pair of scissors' 'pole'\n",
      " 'pick-axe' 'flashlight' 'baton' 'spear' 'chair' 'pitchfork'\n",
      " 'hatchet and gun' 'rock' 'piece of wood' 'pipe' 'glass shard'\n",
      " 'motorcycle' 'pepper spray' 'metal rake' 'crowbar' 'oar'\n",
      " 'machete and gun' 'tire iron' 'air conditioner' 'pole and knife'\n",
      " 'baseball bat and bottle' 'fireworks' 'pen' 'chainsaw' 'gun and sword'\n",
      " 'gun and car' 'claimed to be armed' 'incendiary device' 'samurai sword'\n",
      " 'bow and arrow' 'gun and vehicle' 'vehicle and gun' 'wrench'\n",
      " 'walking stick' 'barstool' 'BB gun and vehicle' 'wasp spray' 'air pistol'\n",
      " 'Airsoft pistol' 'baseball bat and knife' 'vehicle and machete'\n",
      " 'ice pick' 'car, knife and mace' 'bottle' 'gun and machete' 'microphone'\n",
      " 'knife and vehicle' 'machete and hammer' 'stake' 'incendiary weapon'\n",
      " 'ax and machete'] \n",
      "\n",
      "age:  [53. 47. 23. 32. 39. 18. 22. 35. 34. 25. 31. 41. 30. 37. 28. 42. 36. 49.\n",
      " 71. 33. 29. 43. 24. 75. 68. 27. 48. 21. 67. 19. 54. 17. 56. 61. 45. 26.\n",
      " 40. 59. 38. 51. 74. 57. 46. 16. 50. 20. 77. nan 58. 64. 52. 63. 44. 60.\n",
      " 66. 83. 72. 76. 62. 55. 69. 86. 15. 65.  6. 12. 70. 80. 14. 82. 13. 73.\n",
      " 91. 79. 78. 84. 81. 89. 88.  8. 92.  2.] \n",
      "\n",
      "gender:  ['M' 'F' nan] \n",
      "\n",
      "race:  ['A' 'W' 'H' 'B' 'O' nan 'N'] \n",
      "\n",
      "city:  ['Shelton' 'Aloha' 'Wichita' ... 'Vinton' 'West Brattleboro' 'Gaitherburg'] \n",
      "\n",
      "state:  ['WA' 'OR' 'KS' 'CA' 'CO' 'OK' 'AZ' 'IA' 'PA' 'TX' 'OH' 'LA' 'MT' 'UT'\n",
      " 'AR' 'IL' 'NV' 'NM' 'MN' 'MO' 'VA' 'NJ' 'IN' 'KY' 'MA' 'NH' 'FL' 'ID'\n",
      " 'MD' 'NE' 'MI' 'GA' 'TN' 'NC' 'AK' 'NY' 'ME' 'AL' 'MS' 'WI' 'SC' 'DE'\n",
      " 'DC' 'WV' 'HI' 'WY' 'ND' 'CT' 'SD' 'VT' 'RI'] \n",
      "\n",
      "signs_of_mental_illness:  [ True False] \n",
      "\n",
      "threat_level:  ['attack' 'other' 'undetermined'] \n",
      "\n",
      "flee:  ['Not fleeing' 'Car' 'Foot' 'Other' nan] \n",
      "\n",
      "body_camera:  [False  True] \n",
      "\n",
      "longitude:  [-123.122 -122.892  -97.281 ...  -79.292 -101.861 -111.876] \n",
      "\n",
      "latitude:  [47.247 45.487 37.695 ... 31.275 33.759 31.957] \n",
      "\n",
      "is_geocoding_exact:  [ True False] \n",
      "\n"
     ]
    }
   ],
   "source": [
    "# unique values in column\n",
    "columns = df.columns\n",
    "print('List of Unique Values by Column' + '\\n' + '\\n')\n",
    "for col in columns:\n",
    "    print(f'{col}:  {str(df[col].unique())} \\n')"
   ]
  },
  {
   "cell_type": "markdown",
   "id": "7fb886c2",
   "metadata": {},
   "source": [
    "# data wrangling and cleaning"
   ]
  },
  {
   "cell_type": "code",
   "execution_count": 76,
   "id": "23d42e80",
   "metadata": {},
   "outputs": [],
   "source": [
    "# drop name and id columns\n",
    "df.drop(columns=['name', 'id'], inplace=True)\n",
    "\n",
    "# make separate df with latitude and longitude and remove from df\n",
    "coord_df = df.copy()\n",
    "df.drop(columns=['latitude','longitude'], inplace=True)"
   ]
  },
  {
   "cell_type": "code",
   "execution_count": 77,
   "id": "f5b8350f",
   "metadata": {
    "scrolled": true
   },
   "outputs": [
    {
     "data": {
      "image/png": "[encoded data removed]",
      "text/plain": [
       "<Figure size 864x576 with 2 Axes>"
      ]
     },
     "metadata": {},
     "output_type": "display_data"
    }
   ],
   "source": [
    "msno.matrix(df, figsize=(12,8))\n",
    "plt.show()"
   ]
  },
  {
   "cell_type": "code",
   "execution_count": 78,
   "id": "a66dc8ea",
   "metadata": {
    "scrolled": true
   },
   "outputs": [
    {
     "data": {
      "image/png": "[encoded data removed]",
      "text/plain": [
       "<Figure size 864x576 with 2 Axes>"
      ]
     },
     "metadata": {},
     "output_type": "display_data"
    }
   ],
   "source": [
    "# check if missing data is correlated\n",
    "msno.heatmap(df, figsize=(12,8))\n",
    "plt.show()"
   ]
  },
  {
   "cell_type": "code",
   "execution_count": 79,
   "id": "523a946d",
   "metadata": {},
   "outputs": [
    {
     "data": {
      "text/plain": [
       "Not fleeing    0.566249\n",
       "Car            0.162294\n",
       "Foot           0.128016\n",
       "Other          0.036783\n",
       "Name: flee, dtype: float64"
      ]
     },
     "execution_count": 79,
     "metadata": {},
     "output_type": "execute_result"
    }
   ],
   "source": [
    "df['flee'].value_counts()/len(df['flee'])"
   ]
  },
  {
   "cell_type": "code",
   "execution_count": 80,
   "id": "b34e64fe",
   "metadata": {},
   "outputs": [
    {
     "data": {
      "text/plain": [
       "M    0.952538\n",
       "F    0.045221\n",
       "Name: gender, dtype: float64"
      ]
     },
     "execution_count": 80,
     "metadata": {},
     "output_type": "execute_result"
    }
   ],
   "source": [
    "df['gender'].value_counts()/len(df['gender'])"
   ]
  },
  {
   "cell_type": "code",
   "execution_count": 81,
   "id": "0fec6770",
   "metadata": {},
   "outputs": [
    {
     "data": {
      "text/plain": [
       "W    0.416084\n",
       "B    0.219117\n",
       "H    0.146078\n",
       "A    0.014370\n",
       "N    0.012657\n",
       "O    0.006196\n",
       "Name: race, dtype: float64"
      ]
     },
     "execution_count": 81,
     "metadata": {},
     "output_type": "execute_result"
    }
   ],
   "source": [
    "df['race'].value_counts()/len(df['race'])"
   ]
  },
  {
   "cell_type": "code",
   "execution_count": 82,
   "id": "6abc76fa",
   "metadata": {},
   "outputs": [],
   "source": [
    "# handle null values\n",
    "\n",
    "# make null flee 'Not fleeing', as \n",
    "df['flee'] = df['flee'].fillna('Not fleeing')\n",
    "\n",
    "# impute most common gender 'M' for null -- only 4% of shooting are female\n",
    "df['gender'] = df['gender'].fillna('M')\n",
    "\n",
    "# impute 'None' for null race -- 'None' is unknown according to WaPo GitHub\n",
    "# don't want to make assumptions on race to skew data unnecessarily\n",
    "df['race'] = df['race'].fillna('None')\n",
    "\n",
    "# make null age median age of that state\n",
    "df['age'] = df.groupby('state')['age'].apply(lambda x: x.fillna(x.median()))\n",
    "\n",
    "# armed null now 'undetermined'\n",
    "df['armed'] = df['armed'].fillna('undetermined')"
   ]
  },
  {
   "cell_type": "code",
   "execution_count": 83,
   "id": "58720537",
   "metadata": {},
   "outputs": [],
   "source": [
    "# correct data types\n",
    "df['age'] = df['age'].astype(int)\n",
    "coord_df['latitude'] = coord_df['latitude'].astype(float)\n",
    "coord_df['longitude'] = coord_df['longitude'].astype(float)"
   ]
  },
  {
   "cell_type": "code",
   "execution_count": 84,
   "id": "2ff4f71c",
   "metadata": {},
   "outputs": [],
   "source": [
    "# T/F values to 1/0\n",
    "#vals = {True:1, False:0}\n",
    "#df['body_camera'] = df['body_camera'].map(vals)\n",
    "#df['signs_of_mental_illness'] = df['signs_of_mental_illness'].map(vals)\n",
    "\n",
    "manner = {'shot':'shot', 'shot and Tasered':'tasered and shot'}\n",
    "df['manner_of_death'] = df['manner_of_death'].map(manner)"
   ]
  },
  {
   "cell_type": "code",
   "execution_count": 85,
   "id": "9aa74e22",
   "metadata": {},
   "outputs": [],
   "source": [
    "# Race labels for visualization\n",
    "race_dict = {'A':'Asian','B':'Black','H':'Hispanic','N':'Native','W':'White','O':'Other','None': 'None'}\n",
    "df['race'] = df['race'].map(race_dict)"
   ]
  },
  {
   "cell_type": "code",
   "execution_count": 86,
   "id": "44c07c6a",
   "metadata": {},
   "outputs": [],
   "source": [
    "# bin age\n",
    "df['age_binned'] = pd.cut(x=df['age'], bins=[-np.inf, 18, 30, 45, 60, 75, np.inf], labels=['Under 18','18-29', '30-44', '45-59', '60-75', 'Over 75'])\n"
   ]
  },
  {
   "cell_type": "code",
   "execution_count": 87,
   "id": "740170f4",
   "metadata": {},
   "outputs": [
    {
     "data": {
      "text/plain": [
       "date                       0\n",
       "manner_of_death            0\n",
       "armed                      0\n",
       "age                        0\n",
       "gender                     0\n",
       "race                       0\n",
       "city                       0\n",
       "state                      0\n",
       "signs_of_mental_illness    0\n",
       "threat_level               0\n",
       "flee                       0\n",
       "body_camera                0\n",
       "is_geocoding_exact         0\n",
       "age_binned                 0\n",
       "dtype: int64"
      ]
     },
     "execution_count": 87,
     "metadata": {},
     "output_type": "execute_result"
    }
   ],
   "source": [
    "df.isna().sum()"
   ]
  },
  {
   "cell_type": "code",
   "execution_count": 88,
   "id": "3b081d1c",
   "metadata": {},
   "outputs": [],
   "source": [
    "# organizing 'armed' feature by creating difference breakdowns from over 100 different categories\n",
    "\n",
    "unarmed = ['unarmed', 'toy weapon']\n",
    "d_unarmed = dict.fromkeys(unarmed, 'unarmed')\n",
    "\n",
    "armed = ['gun', 'guns and explosives', 'gun and knife','gun and sword', 'gun and car', 'gun and machete', 'vehicle and gun',\n",
    "         'gun and vehicle', 'nail gun', 'knife', 'shovel', 'vehicle','hammer', 'hatchet', 'sword', 'machete', 'box cutter',\n",
    "         'metal object', 'screwdriver', 'lawn mower blade', 'flagpole', 'cordless drill', 'crossbow', 'BB gun', 'metal pole',\n",
    "         'Taser', 'metal pipe', 'metal hand tool', 'blunt object', 'metal stick', 'sharp object', 'meat cleaver','carjack',\n",
    "         'chain', \"contractor's level\", 'railroad spikes', 'stapler', 'beer bottle', 'unknown weapon', 'binoculars',\n",
    "         'pellet gun', 'bean-bag gun', 'baseball bat and fireplace poker', 'straight edge razor', 'ax', 'brick',\n",
    "         'baseball bat','hand torch', 'chain saw', 'garden tool', 'scissors', 'pole', 'pick-axe','flashlight', 'baton',\n",
    "         'spear', 'chair', 'pitchfork', 'hatchet and gun', 'rock','piece of wood', 'pipe', 'glass shard', 'motorcycle',\n",
    "         'pepper spray','metal rake', 'crowbar', 'oar', 'pair of scissors', 'machete and gun', 'tire iron', 'air conditioner', 'pole and knife',\n",
    "         'baseball bat and bottle', 'fireworks','pen', 'chainsaw','incendiary device', 'samurai sword', 'bow and arrow',\n",
    "         'wrench', 'walking stick', 'barstool', 'grenade','BB gun and vehicle', 'wasp spray', 'air pistol', 'Airsoft pistol',\n",
    "         'baseball bat and knife', 'vehicle and machete','ice pick','car, knife and mace', 'bottle', 'microphone',\n",
    "         'knife and vehicle', 'machete and hammer', 'stake', 'incendiary weapon','ax and machete', 'unknown weapon']\n",
    "d_armed = dict.fromkeys(armed, 'armed')\n",
    "\n",
    "undetermined = ['claimed to be armed', 'undetermined']\n",
    "d_und = dict.fromkeys(undetermined, 'undetermined')\n",
    "\n",
    "armed_3 = {**d_unarmed, **d_armed, **d_und}\n",
    "\n",
    "df['armed_3'] = df['armed'].map(armed_3)"
   ]
  },
  {
   "cell_type": "code",
   "execution_count": 90,
   "id": "492008fd",
   "metadata": {},
   "outputs": [],
   "source": [
    "# differentiate guns\n",
    "unarmed = ['unarmed', 'toy weapon']\n",
    "d_unarmed = dict.fromkeys(unarmed, 'unarmed')\n",
    "\n",
    "armed_gun = ['gun', 'guns and explosives', 'gun and knife','gun and sword', 'gun and car', 'gun and machete', 'vehicle and gun',\n",
    "         'gun and vehicle']\n",
    "d_armed_gun = dict.fromkeys(armed_gun, 'gun')\n",
    "\n",
    "armed_other = ['nail gun', 'knife', 'shovel', 'vehicle','hammer', 'hatchet', 'sword', 'machete', 'box cutter',\n",
    "         'metal object', 'screwdriver', 'lawn mower blade', 'flagpole', 'cordless drill', 'crossbow', 'BB gun', 'metal pole',\n",
    "         'Taser', 'metal pipe', 'metal hand tool', 'blunt object', 'metal stick', 'sharp object', 'meat cleaver','carjack',\n",
    "         'chain', \"contractor's level\", 'railroad spikes', 'stapler', 'beer bottle', 'unknown weapon', 'binoculars',\n",
    "         'pellet gun', 'bean-bag gun', 'baseball bat and fireplace poker', 'straight edge razor', 'ax', 'brick',\n",
    "         'baseball bat','hand torch', 'chain saw', 'garden tool', 'scissors', 'pair of scissors', 'pole', 'pick-axe','flashlight', 'baton',\n",
    "         'spear', 'chair', 'pitchfork', 'hatchet and gun', 'rock','piece of wood', 'pipe', 'glass shard', 'motorcycle',\n",
    "         'pepper spray','metal rake', 'crowbar', 'oar', 'machete and gun', 'tire iron', 'air conditioner', 'pole and knife',\n",
    "         'baseball bat and bottle', 'fireworks','pen', 'chainsaw','incendiary device', 'samurai sword', 'bow and arrow',\n",
    "         'wrench', 'walking stick', 'barstool', 'grenade','BB gun and vehicle', 'wasp spray', 'air pistol', 'Airsoft pistol',\n",
    "         'baseball bat and knife', 'vehicle and machete','ice pick','car, knife and mace', 'bottle', 'microphone',\n",
    "         'knife and vehicle', 'machete and hammer', 'stake', 'incendiary weapon','ax and machete', 'unknown weapon']\n",
    "d_armed_other = dict.fromkeys(armed_other, 'other weapon')\n",
    "\n",
    "undetermined = ['claimed to be armed', 'undetermined']\n",
    "d_und = dict.fromkeys(undetermined, 'undetermined')\n",
    "\n",
    "armed_4 = {**d_unarmed, **d_armed_gun, **d_armed_other, **d_und}\n",
    "\n",
    "df['armed_4'] = df['armed'].map(armed_4)"
   ]
  },
  {
   "cell_type": "code",
   "execution_count": 91,
   "id": "de1f7112",
   "metadata": {},
   "outputs": [],
   "source": [
    "# further stratified\n",
    "unarmed = ['unarmed', 'toy weapon']\n",
    "d_unarmed = dict.fromkeys(unarmed, 'unarmed')\n",
    "\n",
    "gun = ['gun', 'guns and explosives', 'gun and knife','gun and sword', 'gun and car', 'gun and machete', \n",
    "           'vehicle and gun', 'gun and vehicle']\n",
    "d_gun = dict.fromkeys(gun, 'gun')\n",
    "\n",
    "knife = ['knife','hatchet','sword','machete','box cutter', 'lawn mower blade','sharp object', 'meat cleaver',\n",
    "    'straight edge razor', 'ax', 'chain saw', 'garden tool', 'scissors', 'pair of scissors', 'pick-axe','spear', 'pitchfork', 'hatchet and gun', 'machete and gun', 'pole and knife', \n",
    "    'chainsaw','samurai sword','baseball bat and knife', 'vehicle and machete', 'ice pick','car, knife and mace', 'knife and vehicle', 'machete and hammer',\n",
    "    'ax and machete']\n",
    "d_knives = dict.fromkeys(knife, 'knife/cutting instrument')\n",
    "\n",
    "# separated toy guns from airsoft, bb guns, and pellet guns\n",
    "air_bb = ['BB gun', 'pellet gun', 'BB gun and vehicle', 'air pistol', 'Airsoft pistol']\n",
    "d_air_bb = dict.fromkeys(air_bb, 'air/bb/pellet guns')\n",
    "\n",
    "toy = ['toy weapon']\n",
    "d_toy = dict.fromkeys(toy, 'toy weapon')\n",
    "\n",
    "other = ['nail gun', 'shovel', 'vehicle','hammer', 'metal object', 'screwdriver', 'flagpole', 'cordless drill',\n",
    "         'crossbow','metal pole','Taser', 'metal pipe', 'metal hand tool','blunt object', 'metal stick','carjack',\n",
    "         'chain', \"contractor's level\", 'railroad spikes', 'stapler', 'beer bottle', 'unknown weapon','binoculars',\n",
    "         'bean-bag gun', 'baseball bat and fireplace poker', 'brick', 'baseball bat','hand torch','pole', 'flashlight',\n",
    "         'baton','chair','pitchfork', 'rock','piece of wood', 'pipe', 'glass shard', 'motorcycle', 'pepper spray',\n",
    "         'metal rake', 'crowbar', 'oar', 'tire iron', 'air conditioner', 'baseball bat and bottle', 'fireworks',\n",
    "         'pen','incendiary device', 'bow and arrow', 'wrench', 'walking stick','barstool', 'grenade', 'wasp spray',\n",
    "         'bottle', 'microphone','stake', 'incendiary weapon','unknown weapon'] \n",
    "d_other = dict.fromkeys(other, 'other weapon')\n",
    "\n",
    "undetermined: ['claimed to be armed', 'undetermined']\n",
    "d_undet = dict.fromkeys(undetermined, 'undetermined')\n",
    "\n",
    "armed_7 = {**d_unarmed, **d_gun, **d_knives, **d_air_bb, **d_toy, **d_other, **d_undet}\n",
    "\n",
    "df['armed_7'] = df['armed'].map(armed_7)"
   ]
  },
  {
   "cell_type": "code",
   "execution_count": 92,
   "id": "5536d52f",
   "metadata": {},
   "outputs": [],
   "source": [
    "df.drop(columns='armed', inplace=True)"
   ]
  },
  {
   "cell_type": "markdown",
   "id": "227a900e",
   "metadata": {},
   "source": [
    "notes:\n",
    "\n",
    "*threat_level:* The attack category is meant to flag the highest level of threat. The other and undetermined categories represent all remaining cases. Other includes many incidents where officers or others faced significant threats.\n",
    "\n",
    "*is_geocoding_exact:* False means centroid area [lat,long]; True means [lat,long] within approximately 100 meters\n",
    "\n",
    "*armed:* undetermined includes nan; armed_other includes (explosives, fire, blunt objects, melee weapons, bean bag gun)"
   ]
  },
  {
   "cell_type": "code",
   "execution_count": 93,
   "id": "565b228a",
   "metadata": {},
   "outputs": [],
   "source": [
    "df['count'] = 1"
   ]
  },
  {
   "cell_type": "code",
   "execution_count": 94,
   "id": "240166f1",
   "metadata": {},
   "outputs": [],
   "source": [
    "# make MM-YY column from date\n",
    "df['date'] = pd.to_datetime(df['date'])\n",
    "df['month'] = df['date'].dt.month\n",
    "# make YY column from date\n",
    "df['year'] = df['date'].dt.year\n",
    "# make quarter column from date\n",
    "df['quarter'] = df['date'].dt.quarter"
   ]
  },
  {
   "cell_type": "code",
   "execution_count": 95,
   "id": "37711e47",
   "metadata": {},
   "outputs": [
    {
     "data": {
      "text/plain": [
       "Index(['date', 'manner_of_death', 'age', 'gender', 'race', 'city', 'state',\n",
       "       'signs_of_mental_illness', 'threat_level', 'flee', 'body_camera',\n",
       "       'is_geocoding_exact', 'age_binned', 'armed_3', 'armed_4', 'armed_7',\n",
       "       'count', 'month', 'year', 'quarter'],\n",
       "      dtype='object')"
      ]
     },
     "execution_count": 95,
     "metadata": {},
     "output_type": "execute_result"
    }
   ],
   "source": [
    "df.columns"
   ]
  },
  {
   "cell_type": "markdown",
   "id": "0ee0e778",
   "metadata": {},
   "source": [
    "# adding census data"
   ]
  },
  {
   "cell_type": "code",
   "execution_count": 96,
   "id": "272deab0",
   "metadata": {},
   "outputs": [],
   "source": [
    "state_pop19 = pd.read_csv('../Fatal-Police-Shootings-WaPo/statepop/nst-est2019-popchg2010_2019.csv')"
   ]
  },
  {
   "cell_type": "code",
   "execution_count": 97,
   "id": "59bb0b8f",
   "metadata": {},
   "outputs": [],
   "source": [
    "# create state population dataframe\n",
    "state_pop = pd.DataFrame(columns=['state_name', 'PopEstimate2015', 'PopEstimate2016', 'PopEstimate2017', 'PopEstimate2018', 'PopEstimate2019'])\n",
    "state_pop[['state_name', 'PopEstimate2015', 'PopEstimate2016', 'PopEstimate2017', 'PopEstimate2018', 'PopEstimate2019']] = state_pop19[['NAME','POPESTIMATE2015', 'POPESTIMATE2016', 'POPESTIMATE2017', 'POPESTIMATE2018', 'POPESTIMATE2019']]\n",
    "# drop regions and PR\n",
    "state_pop.drop(axis=0, index=[1,2,3,4,56], inplace=True)\n",
    "state_pop.reset_index(drop=True,inplace=True)"
   ]
  },
  {
   "cell_type": "code",
   "execution_count": 98,
   "id": "6f307d6a",
   "metadata": {},
   "outputs": [],
   "source": [
    "state_pop20_21 = pd.read_csv('../Fatal-Police-Shootings-WaPo/statepop/NST-EST2021-popchg2020_2021.csv')"
   ]
  },
  {
   "cell_type": "code",
   "execution_count": 99,
   "id": "affc7efe",
   "metadata": {},
   "outputs": [],
   "source": [
    "state_pop20_21.drop(axis=0, index=[1,2,3,4,56], inplace=True)\n",
    "state_pop20_21.reset_index(drop=True, inplace=True)\n",
    "\n",
    "state_pop[['PopEstimate2020', 'PopEstimate2021']] = state_pop20_21[['POPESTIMATE2020', 'POPESTIMATE2021']]"
   ]
  },
  {
   "cell_type": "code",
   "execution_count": 100,
   "id": "fbbad163",
   "metadata": {},
   "outputs": [],
   "source": [
    "state_abbrev = {'United States':'Total', 'Alabama':'AL', 'Alaska':'AK', 'Arizona':'AZ', 'Arkansas':'AR', \n",
    "                'California':'CA','Colorado':'CO', 'Connecticut':'CT', 'Delaware':'DE','District of Columbia':'DC',\n",
    "                'Florida':'FL', 'Georgia':'GA', 'Hawaii':'HI', 'Idaho':'ID', 'Illinois': 'IL','Indiana': 'IN',\n",
    "                'Iowa':'IA', 'Kansas':'KS', 'Kentucky':'KY', 'Louisiana':'LA', 'Maine':'ME', 'Maryland':'MD', \n",
    "                'Massachusetts':'MA', 'Michigan':'MI', 'Minnesota':'MN', 'Mississippi':'MS', 'Missouri': 'MO',\n",
    "                'Montana': 'MN', 'Nebraska':'NE', 'Nevada':'NV', 'New Hampshire':'NH','New Jersey':'NJ', 'New Mexico':'NM',\n",
    "                'New York':'NY', 'North Carolina':'NC', 'North Dakota':'ND','Ohio':'OH','Oklahoma':'OK', 'Oregon':'OR',\n",
    "                'Pennsylvania':'PA', 'Rhode Island':'RI', 'South Carolina':'SC','South Dakota':'SD','Tennessee':'TN',\n",
    "                'Texas':'TX', 'Utah':'UT','Vermont':'VT','Virginia':'VA','Washington':'WA', 'West Virginia':'WV',\n",
    "                'Wisconsin':'WI', 'Wyoming':'WY'}\n",
    "\n",
    "state_pop['state'] = state_pop['state_name'].map(state_abbrev)"
   ]
  },
  {
   "cell_type": "code",
   "execution_count": 101,
   "id": "a9c0f7f8",
   "metadata": {},
   "outputs": [],
   "source": [
    "state_pop.set_index(keys='state', inplace=True)"
   ]
  },
  {
   "cell_type": "code",
   "execution_count": 102,
   "id": "499d9b30",
   "metadata": {},
   "outputs": [],
   "source": [
    "# merge state pop data\n",
    "df = pd.merge(df,state_pop, on='state')"
   ]
  },
  {
   "cell_type": "code",
   "execution_count": 104,
   "id": "18e02cb2",
   "metadata": {},
   "outputs": [
    {
     "data": {
      "text/plain": [
       "30-44       0.437738\n",
       "18-29       0.298124\n",
       "45-59       0.179635\n",
       "60-75       0.045663\n",
       "Under 18    0.032542\n",
       "Over 75     0.006298\n",
       "Name: age_binned, dtype: float64"
      ]
     },
     "execution_count": 104,
     "metadata": {},
     "output_type": "execute_result"
    }
   ],
   "source": [
    "# 30-44 year olds are the largest age group represented with 43.7% of deaths, followed by 18-29 year olds with 29.7%\n",
    "df['age_binned'].value_counts()/len(df['age_binned'])"
   ]
  },
  {
   "cell_type": "code",
   "execution_count": 105,
   "id": "8655d28a",
   "metadata": {},
   "outputs": [],
   "source": [
    "d = df.groupby([df.month, df.year])['count'].sum()"
   ]
  },
  {
   "cell_type": "code",
   "execution_count": 106,
   "id": "04b51c21",
   "metadata": {},
   "outputs": [],
   "source": [
    "d = d.unstack().cumsum()"
   ]
  },
  {
   "cell_type": "code",
   "execution_count": 107,
   "id": "53d25bce",
   "metadata": {},
   "outputs": [
    {
     "data": {
      "text/html": [
       "<div>\n",
       "<style scoped>\n",
       "    .dataframe tbody tr th:only-of-type {\n",
       "        vertical-align: middle;\n",
       "    }\n",
       "\n",
       "    .dataframe tbody tr th {\n",
       "        vertical-align: top;\n",
       "    }\n",
       "\n",
       "    .dataframe thead th {\n",
       "        text-align: right;\n",
       "    }\n",
       "</style>\n",
       "<table border=\"1\" class=\"dataframe\">\n",
       "  <thead>\n",
       "    <tr style=\"text-align: right;\">\n",
       "      <th>year</th>\n",
       "      <th>2015</th>\n",
       "      <th>2016</th>\n",
       "      <th>2017</th>\n",
       "      <th>2018</th>\n",
       "      <th>2019</th>\n",
       "      <th>2020</th>\n",
       "      <th>2021</th>\n",
       "      <th>2022</th>\n",
       "    </tr>\n",
       "    <tr>\n",
       "      <th>month</th>\n",
       "      <th></th>\n",
       "      <th></th>\n",
       "      <th></th>\n",
       "      <th></th>\n",
       "      <th></th>\n",
       "      <th></th>\n",
       "      <th></th>\n",
       "      <th></th>\n",
       "    </tr>\n",
       "  </thead>\n",
       "  <tbody>\n",
       "    <tr>\n",
       "      <th>1</th>\n",
       "      <td>77.0</td>\n",
       "      <td>80.0</td>\n",
       "      <td>93.0</td>\n",
       "      <td>99.0</td>\n",
       "      <td>93.0</td>\n",
       "      <td>87.0</td>\n",
       "      <td>81.0</td>\n",
       "      <td>73.0</td>\n",
       "    </tr>\n",
       "    <tr>\n",
       "      <th>2</th>\n",
       "      <td>154.0</td>\n",
       "      <td>167.0</td>\n",
       "      <td>193.0</td>\n",
       "      <td>177.0</td>\n",
       "      <td>166.0</td>\n",
       "      <td>166.0</td>\n",
       "      <td>181.0</td>\n",
       "      <td>162.0</td>\n",
       "    </tr>\n",
       "    <tr>\n",
       "      <th>3</th>\n",
       "      <td>247.0</td>\n",
       "      <td>260.0</td>\n",
       "      <td>270.0</td>\n",
       "      <td>285.0</td>\n",
       "      <td>254.0</td>\n",
       "      <td>259.0</td>\n",
       "      <td>269.0</td>\n",
       "      <td>260.0</td>\n",
       "    </tr>\n",
       "    <tr>\n",
       "      <th>4</th>\n",
       "      <td>331.0</td>\n",
       "      <td>334.0</td>\n",
       "      <td>338.0</td>\n",
       "      <td>380.0</td>\n",
       "      <td>325.0</td>\n",
       "      <td>338.0</td>\n",
       "      <td>358.0</td>\n",
       "      <td>353.0</td>\n",
       "    </tr>\n",
       "    <tr>\n",
       "      <th>5</th>\n",
       "      <td>403.0</td>\n",
       "      <td>410.0</td>\n",
       "      <td>409.0</td>\n",
       "      <td>463.0</td>\n",
       "      <td>400.0</td>\n",
       "      <td>448.0</td>\n",
       "      <td>442.0</td>\n",
       "      <td>443.0</td>\n",
       "    </tr>\n",
       "    <tr>\n",
       "      <th>6</th>\n",
       "      <td>468.0</td>\n",
       "      <td>500.0</td>\n",
       "      <td>493.0</td>\n",
       "      <td>545.0</td>\n",
       "      <td>486.0</td>\n",
       "      <td>523.0</td>\n",
       "      <td>552.0</td>\n",
       "      <td>536.0</td>\n",
       "    </tr>\n",
       "    <tr>\n",
       "      <th>7</th>\n",
       "      <td>573.0</td>\n",
       "      <td>572.0</td>\n",
       "      <td>589.0</td>\n",
       "      <td>634.0</td>\n",
       "      <td>567.0</td>\n",
       "      <td>592.0</td>\n",
       "      <td>625.0</td>\n",
       "      <td>596.0</td>\n",
       "    </tr>\n",
       "    <tr>\n",
       "      <th>8</th>\n",
       "      <td>667.0</td>\n",
       "      <td>656.0</td>\n",
       "      <td>671.0</td>\n",
       "      <td>708.0</td>\n",
       "      <td>655.0</td>\n",
       "      <td>679.0</td>\n",
       "      <td>721.0</td>\n",
       "      <td>NaN</td>\n",
       "    </tr>\n",
       "    <tr>\n",
       "      <th>9</th>\n",
       "      <td>751.0</td>\n",
       "      <td>735.0</td>\n",
       "      <td>740.0</td>\n",
       "      <td>762.0</td>\n",
       "      <td>734.0</td>\n",
       "      <td>739.0</td>\n",
       "      <td>803.0</td>\n",
       "      <td>NaN</td>\n",
       "    </tr>\n",
       "    <tr>\n",
       "      <th>10</th>\n",
       "      <td>835.0</td>\n",
       "      <td>814.0</td>\n",
       "      <td>825.0</td>\n",
       "      <td>838.0</td>\n",
       "      <td>823.0</td>\n",
       "      <td>839.0</td>\n",
       "      <td>896.0</td>\n",
       "      <td>NaN</td>\n",
       "    </tr>\n",
       "    <tr>\n",
       "      <th>11</th>\n",
       "      <td>914.0</td>\n",
       "      <td>891.0</td>\n",
       "      <td>907.0</td>\n",
       "      <td>918.0</td>\n",
       "      <td>898.0</td>\n",
       "      <td>928.0</td>\n",
       "      <td>972.0</td>\n",
       "      <td>NaN</td>\n",
       "    </tr>\n",
       "    <tr>\n",
       "      <th>12</th>\n",
       "      <td>1002.0</td>\n",
       "      <td>967.0</td>\n",
       "      <td>984.0</td>\n",
       "      <td>989.0</td>\n",
       "      <td>1004.0</td>\n",
       "      <td>1018.0</td>\n",
       "      <td>1061.0</td>\n",
       "      <td>NaN</td>\n",
       "    </tr>\n",
       "  </tbody>\n",
       "</table>\n",
       "</div>"
      ],
      "text/plain": [
       "year     2015   2016   2017   2018    2019    2020    2021   2022\n",
       "month                                                            \n",
       "1        77.0   80.0   93.0   99.0    93.0    87.0    81.0   73.0\n",
       "2       154.0  167.0  193.0  177.0   166.0   166.0   181.0  162.0\n",
       "3       247.0  260.0  270.0  285.0   254.0   259.0   269.0  260.0\n",
       "4       331.0  334.0  338.0  380.0   325.0   338.0   358.0  353.0\n",
       "5       403.0  410.0  409.0  463.0   400.0   448.0   442.0  443.0\n",
       "6       468.0  500.0  493.0  545.0   486.0   523.0   552.0  536.0\n",
       "7       573.0  572.0  589.0  634.0   567.0   592.0   625.0  596.0\n",
       "8       667.0  656.0  671.0  708.0   655.0   679.0   721.0    NaN\n",
       "9       751.0  735.0  740.0  762.0   734.0   739.0   803.0    NaN\n",
       "10      835.0  814.0  825.0  838.0   823.0   839.0   896.0    NaN\n",
       "11      914.0  891.0  907.0  918.0   898.0   928.0   972.0    NaN\n",
       "12     1002.0  967.0  984.0  989.0  1004.0  1018.0  1061.0    NaN"
      ]
     },
     "execution_count": 107,
     "metadata": {},
     "output_type": "execute_result"
    }
   ],
   "source": [
    "d"
   ]
  },
  {
   "cell_type": "code",
   "execution_count": 108,
   "id": "7b5ba9ff",
   "metadata": {},
   "outputs": [
    {
     "data": {
      "text/html": [
       "<div>\n",
       "<style scoped>\n",
       "    .dataframe tbody tr th:only-of-type {\n",
       "        vertical-align: middle;\n",
       "    }\n",
       "\n",
       "    .dataframe tbody tr th {\n",
       "        vertical-align: top;\n",
       "    }\n",
       "\n",
       "    .dataframe thead th {\n",
       "        text-align: right;\n",
       "    }\n",
       "</style>\n",
       "<table border=\"1\" class=\"dataframe\">\n",
       "  <thead>\n",
       "    <tr style=\"text-align: right;\">\n",
       "      <th>year</th>\n",
       "      <th>2015</th>\n",
       "      <th>2016</th>\n",
       "      <th>2017</th>\n",
       "      <th>2018</th>\n",
       "      <th>2019</th>\n",
       "      <th>2020</th>\n",
       "      <th>2021</th>\n",
       "      <th>2022</th>\n",
       "    </tr>\n",
       "    <tr>\n",
       "      <th>month</th>\n",
       "      <th></th>\n",
       "      <th></th>\n",
       "      <th></th>\n",
       "      <th></th>\n",
       "      <th></th>\n",
       "      <th></th>\n",
       "      <th></th>\n",
       "      <th></th>\n",
       "    </tr>\n",
       "  </thead>\n",
       "  <tbody>\n",
       "    <tr>\n",
       "      <th>1</th>\n",
       "      <td>77.0</td>\n",
       "      <td>80.0</td>\n",
       "      <td>93.0</td>\n",
       "      <td>99.0</td>\n",
       "      <td>93.0</td>\n",
       "      <td>87.0</td>\n",
       "      <td>81.0</td>\n",
       "      <td>73.0</td>\n",
       "    </tr>\n",
       "    <tr>\n",
       "      <th>2</th>\n",
       "      <td>77.0</td>\n",
       "      <td>87.0</td>\n",
       "      <td>100.0</td>\n",
       "      <td>78.0</td>\n",
       "      <td>73.0</td>\n",
       "      <td>79.0</td>\n",
       "      <td>100.0</td>\n",
       "      <td>89.0</td>\n",
       "    </tr>\n",
       "    <tr>\n",
       "      <th>3</th>\n",
       "      <td>93.0</td>\n",
       "      <td>93.0</td>\n",
       "      <td>77.0</td>\n",
       "      <td>108.0</td>\n",
       "      <td>88.0</td>\n",
       "      <td>93.0</td>\n",
       "      <td>88.0</td>\n",
       "      <td>98.0</td>\n",
       "    </tr>\n",
       "    <tr>\n",
       "      <th>4</th>\n",
       "      <td>84.0</td>\n",
       "      <td>74.0</td>\n",
       "      <td>68.0</td>\n",
       "      <td>95.0</td>\n",
       "      <td>71.0</td>\n",
       "      <td>79.0</td>\n",
       "      <td>89.0</td>\n",
       "      <td>93.0</td>\n",
       "    </tr>\n",
       "    <tr>\n",
       "      <th>5</th>\n",
       "      <td>72.0</td>\n",
       "      <td>76.0</td>\n",
       "      <td>71.0</td>\n",
       "      <td>83.0</td>\n",
       "      <td>75.0</td>\n",
       "      <td>110.0</td>\n",
       "      <td>84.0</td>\n",
       "      <td>90.0</td>\n",
       "    </tr>\n",
       "    <tr>\n",
       "      <th>6</th>\n",
       "      <td>65.0</td>\n",
       "      <td>90.0</td>\n",
       "      <td>84.0</td>\n",
       "      <td>82.0</td>\n",
       "      <td>86.0</td>\n",
       "      <td>75.0</td>\n",
       "      <td>110.0</td>\n",
       "      <td>93.0</td>\n",
       "    </tr>\n",
       "    <tr>\n",
       "      <th>7</th>\n",
       "      <td>105.0</td>\n",
       "      <td>72.0</td>\n",
       "      <td>96.0</td>\n",
       "      <td>89.0</td>\n",
       "      <td>81.0</td>\n",
       "      <td>69.0</td>\n",
       "      <td>73.0</td>\n",
       "      <td>60.0</td>\n",
       "    </tr>\n",
       "    <tr>\n",
       "      <th>8</th>\n",
       "      <td>94.0</td>\n",
       "      <td>84.0</td>\n",
       "      <td>82.0</td>\n",
       "      <td>74.0</td>\n",
       "      <td>88.0</td>\n",
       "      <td>87.0</td>\n",
       "      <td>96.0</td>\n",
       "      <td>NaN</td>\n",
       "    </tr>\n",
       "    <tr>\n",
       "      <th>9</th>\n",
       "      <td>84.0</td>\n",
       "      <td>79.0</td>\n",
       "      <td>69.0</td>\n",
       "      <td>54.0</td>\n",
       "      <td>79.0</td>\n",
       "      <td>60.0</td>\n",
       "      <td>82.0</td>\n",
       "      <td>NaN</td>\n",
       "    </tr>\n",
       "    <tr>\n",
       "      <th>10</th>\n",
       "      <td>84.0</td>\n",
       "      <td>79.0</td>\n",
       "      <td>85.0</td>\n",
       "      <td>76.0</td>\n",
       "      <td>89.0</td>\n",
       "      <td>100.0</td>\n",
       "      <td>93.0</td>\n",
       "      <td>NaN</td>\n",
       "    </tr>\n",
       "    <tr>\n",
       "      <th>11</th>\n",
       "      <td>79.0</td>\n",
       "      <td>77.0</td>\n",
       "      <td>82.0</td>\n",
       "      <td>80.0</td>\n",
       "      <td>75.0</td>\n",
       "      <td>89.0</td>\n",
       "      <td>76.0</td>\n",
       "      <td>NaN</td>\n",
       "    </tr>\n",
       "    <tr>\n",
       "      <th>12</th>\n",
       "      <td>88.0</td>\n",
       "      <td>76.0</td>\n",
       "      <td>77.0</td>\n",
       "      <td>71.0</td>\n",
       "      <td>106.0</td>\n",
       "      <td>90.0</td>\n",
       "      <td>89.0</td>\n",
       "      <td>NaN</td>\n",
       "    </tr>\n",
       "  </tbody>\n",
       "</table>\n",
       "</div>"
      ],
      "text/plain": [
       "year    2015  2016   2017   2018   2019   2020   2021  2022\n",
       "month                                                      \n",
       "1       77.0  80.0   93.0   99.0   93.0   87.0   81.0  73.0\n",
       "2       77.0  87.0  100.0   78.0   73.0   79.0  100.0  89.0\n",
       "3       93.0  93.0   77.0  108.0   88.0   93.0   88.0  98.0\n",
       "4       84.0  74.0   68.0   95.0   71.0   79.0   89.0  93.0\n",
       "5       72.0  76.0   71.0   83.0   75.0  110.0   84.0  90.0\n",
       "6       65.0  90.0   84.0   82.0   86.0   75.0  110.0  93.0\n",
       "7      105.0  72.0   96.0   89.0   81.0   69.0   73.0  60.0\n",
       "8       94.0  84.0   82.0   74.0   88.0   87.0   96.0   NaN\n",
       "9       84.0  79.0   69.0   54.0   79.0   60.0   82.0   NaN\n",
       "10      84.0  79.0   85.0   76.0   89.0  100.0   93.0   NaN\n",
       "11      79.0  77.0   82.0   80.0   75.0   89.0   76.0   NaN\n",
       "12      88.0  76.0   77.0   71.0  106.0   90.0   89.0   NaN"
      ]
     },
     "execution_count": 108,
     "metadata": {},
     "output_type": "execute_result"
    }
   ],
   "source": [
    "pivoted = df.pivot_table(index='month', columns='year', values='count', aggfunc={'count':'sum'})#.plot(figsize=(15,10))                                                                             \n",
    "#plt.legend(loc='lower right')\n",
    "#plt.show()\n",
    "# count or sum for aggfunc\n",
    "pivoted"
   ]
  },
  {
   "cell_type": "markdown",
   "id": "1274a138",
   "metadata": {},
   "source": [
    "more exploratory "
   ]
  },
  {
   "cell_type": "code",
   "execution_count": 110,
   "id": "d2b7a768",
   "metadata": {},
   "outputs": [
    {
     "data": {
      "image/png": "[encoded data removed]",
      "text/plain": [
       "<Figure size 1440x360 with 1 Axes>"
      ]
     },
     "metadata": {},
     "output_type": "display_data"
    }
   ],
   "source": [
    "shot_by_state = df.state.value_counts()\n",
    "\n",
    "plt.figure(figsize=(20, 5))\n",
    "plt.title('Police shooting deaths by state', fontsize=18)\n",
    "sns.barplot(shot_by_state.index, shot_by_state)\n",
    "plt.ylabel('Number of deaths', fontsize=14)\n",
    "plt.xlabel('State', fontsize=14)\n",
    "plt.show()"
   ]
  },
  {
   "cell_type": "code",
   "execution_count": 111,
   "id": "dd07d7f9",
   "metadata": {},
   "outputs": [],
   "source": [
    "# plot total killings (2015-2022) by state per 100,000 people of that state (using 2020 population)\n",
    "state_pop_2020 = state_pop['PopEstimate2020'].drop('Total').sort_index(ascending=True)\n",
    "shot_by_state = df.state.value_counts().sort_index(ascending=True)"
   ]
  },
  {
   "cell_type": "code",
   "execution_count": 112,
   "id": "1027da93",
   "metadata": {},
   "outputs": [
    {
     "data": {
      "text/plain": [
       "MN    15.47\n",
       "NM     7.65\n",
       "AK     7.10\n",
       "OK     5.33\n",
       "AZ     4.85\n",
       "dtype: float64"
      ]
     },
     "execution_count": 112,
     "metadata": {},
     "output_type": "execute_result"
    }
   ],
   "source": [
    "adj_shot_by_state = round(shot_by_state/(state_pop_2020/100000), 2).sort_values(ascending=False)\n",
    "adj_shot_by_state.head(5)"
   ]
  },
  {
   "cell_type": "code",
   "execution_count": 113,
   "id": "0f6c0680",
   "metadata": {},
   "outputs": [],
   "source": [
    "# very different from states with actual highest number of killings (higher population states)"
   ]
  },
  {
   "cell_type": "code",
   "execution_count": 114,
   "id": "343f3b3c",
   "metadata": {},
   "outputs": [],
   "source": [
    "shot_by_city = df.city.value_counts()\n",
    "shot_by_city_top20 = shot_by_city.head(20)"
   ]
  },
  {
   "cell_type": "code",
   "execution_count": 115,
   "id": "6be33716",
   "metadata": {},
   "outputs": [],
   "source": [
    "#top20_cams.groupby(['city','year'])\n",
    "top20_cams_by_year = df.groupby([df.city, df.year])['count','body_camera'].sum().sort_values(by='count', ascending=False)\n",
    "cams_by_city = df.groupby([df.city])['count','body_camera'].sum().sort_values(by='count', ascending=False)"
   ]
  },
  {
   "cell_type": "code",
   "execution_count": 116,
   "id": "2743275a",
   "metadata": {},
   "outputs": [],
   "source": [
    "top20_cams_by_year = top20_cams_by_year.unstack(level=-1, fill_value = 0)"
   ]
  },
  {
   "cell_type": "code",
   "execution_count": 117,
   "id": "2c87c5dd",
   "metadata": {},
   "outputs": [],
   "source": [
    "top20_cams = cams_by_city[:20]"
   ]
  },
  {
   "cell_type": "code",
   "execution_count": 118,
   "id": "3aa77c54",
   "metadata": {},
   "outputs": [
    {
     "data": {
      "text/html": [
       "<div>\n",
       "<style scoped>\n",
       "    .dataframe tbody tr th:only-of-type {\n",
       "        vertical-align: middle;\n",
       "    }\n",
       "\n",
       "    .dataframe tbody tr th {\n",
       "        vertical-align: top;\n",
       "    }\n",
       "\n",
       "    .dataframe thead th {\n",
       "        text-align: right;\n",
       "    }\n",
       "</style>\n",
       "<table border=\"1\" class=\"dataframe\">\n",
       "  <thead>\n",
       "    <tr style=\"text-align: right;\">\n",
       "      <th></th>\n",
       "      <th>count</th>\n",
       "      <th>body_camera</th>\n",
       "    </tr>\n",
       "    <tr>\n",
       "      <th>city</th>\n",
       "      <th></th>\n",
       "      <th></th>\n",
       "    </tr>\n",
       "  </thead>\n",
       "  <tbody>\n",
       "    <tr>\n",
       "      <th>Los Angeles</th>\n",
       "      <td>120</td>\n",
       "      <td>25</td>\n",
       "    </tr>\n",
       "    <tr>\n",
       "      <th>Phoenix</th>\n",
       "      <td>101</td>\n",
       "      <td>15</td>\n",
       "    </tr>\n",
       "    <tr>\n",
       "      <th>Houston</th>\n",
       "      <td>83</td>\n",
       "      <td>20</td>\n",
       "    </tr>\n",
       "    <tr>\n",
       "      <th>San Antonio</th>\n",
       "      <td>66</td>\n",
       "      <td>11</td>\n",
       "    </tr>\n",
       "    <tr>\n",
       "      <th>Las Vegas</th>\n",
       "      <td>62</td>\n",
       "      <td>28</td>\n",
       "    </tr>\n",
       "    <tr>\n",
       "      <th>Albuquerque</th>\n",
       "      <td>52</td>\n",
       "      <td>10</td>\n",
       "    </tr>\n",
       "    <tr>\n",
       "      <th>Chicago</th>\n",
       "      <td>49</td>\n",
       "      <td>12</td>\n",
       "    </tr>\n",
       "    <tr>\n",
       "      <th>Denver</th>\n",
       "      <td>46</td>\n",
       "      <td>2</td>\n",
       "    </tr>\n",
       "    <tr>\n",
       "      <th>Columbus</th>\n",
       "      <td>46</td>\n",
       "      <td>7</td>\n",
       "    </tr>\n",
       "    <tr>\n",
       "      <th>Kansas City</th>\n",
       "      <td>42</td>\n",
       "      <td>3</td>\n",
       "    </tr>\n",
       "    <tr>\n",
       "      <th>Jacksonville</th>\n",
       "      <td>42</td>\n",
       "      <td>9</td>\n",
       "    </tr>\n",
       "    <tr>\n",
       "      <th>Tucson</th>\n",
       "      <td>42</td>\n",
       "      <td>6</td>\n",
       "    </tr>\n",
       "    <tr>\n",
       "      <th>Austin</th>\n",
       "      <td>40</td>\n",
       "      <td>9</td>\n",
       "    </tr>\n",
       "    <tr>\n",
       "      <th>New York</th>\n",
       "      <td>40</td>\n",
       "      <td>9</td>\n",
       "    </tr>\n",
       "    <tr>\n",
       "      <th>Oklahoma City</th>\n",
       "      <td>39</td>\n",
       "      <td>15</td>\n",
       "    </tr>\n",
       "    <tr>\n",
       "      <th>Miami</th>\n",
       "      <td>37</td>\n",
       "      <td>2</td>\n",
       "    </tr>\n",
       "    <tr>\n",
       "      <th>Bakersfield</th>\n",
       "      <td>34</td>\n",
       "      <td>10</td>\n",
       "    </tr>\n",
       "    <tr>\n",
       "      <th>St. Louis</th>\n",
       "      <td>34</td>\n",
       "      <td>0</td>\n",
       "    </tr>\n",
       "    <tr>\n",
       "      <th>Tulsa</th>\n",
       "      <td>33</td>\n",
       "      <td>4</td>\n",
       "    </tr>\n",
       "    <tr>\n",
       "      <th>Atlanta</th>\n",
       "      <td>31</td>\n",
       "      <td>3</td>\n",
       "    </tr>\n",
       "  </tbody>\n",
       "</table>\n",
       "</div>"
      ],
      "text/plain": [
       "               count  body_camera\n",
       "city                             \n",
       "Los Angeles      120           25\n",
       "Phoenix          101           15\n",
       "Houston           83           20\n",
       "San Antonio       66           11\n",
       "Las Vegas         62           28\n",
       "Albuquerque       52           10\n",
       "Chicago           49           12\n",
       "Denver            46            2\n",
       "Columbus          46            7\n",
       "Kansas City       42            3\n",
       "Jacksonville      42            9\n",
       "Tucson            42            6\n",
       "Austin            40            9\n",
       "New York          40            9\n",
       "Oklahoma City     39           15\n",
       "Miami             37            2\n",
       "Bakersfield       34           10\n",
       "St. Louis         34            0\n",
       "Tulsa             33            4\n",
       "Atlanta           31            3"
      ]
     },
     "execution_count": 118,
     "metadata": {},
     "output_type": "execute_result"
    }
   ],
   "source": [
    "top20_cams"
   ]
  },
  {
   "cell_type": "code",
   "execution_count": 119,
   "id": "35db25de",
   "metadata": {},
   "outputs": [
    {
     "name": "stderr",
     "output_type": "stream",
     "text": [
      "/var/folders/v_/wdytmqyx1377p1m8yrz0tdrr0000gn/T/ipykernel_27371/1872087179.py:1: SettingWithCopyWarning:\n",
      "\n",
      "\n",
      "A value is trying to be set on a copy of a slice from a DataFrame.\n",
      "Try using .loc[row_indexer,col_indexer] = value instead\n",
      "\n",
      "See the caveats in the documentation: https://pandas.pydata.org/pandas-docs/stable/user_guide/indexing.html#returning-a-view-versus-a-copy\n",
      "\n"
     ]
    }
   ],
   "source": [
    "top20_cams['no_body_camera'] = top20_cams['count'] - top20_cams['body_camera']"
   ]
  },
  {
   "cell_type": "code",
   "execution_count": 120,
   "id": "939a4b4e",
   "metadata": {},
   "outputs": [
    {
     "data": {
      "text/plain": [
       "20"
      ]
     },
     "execution_count": 120,
     "metadata": {},
     "output_type": "execute_result"
    }
   ],
   "source": [
    "len(top20_cams['body_camera'])"
   ]
  },
  {
   "cell_type": "code",
   "execution_count": 121,
   "id": "91db82b3",
   "metadata": {},
   "outputs": [
    {
     "data": {
      "text/html": [
       "<div>\n",
       "<style scoped>\n",
       "    .dataframe tbody tr th:only-of-type {\n",
       "        vertical-align: middle;\n",
       "    }\n",
       "\n",
       "    .dataframe tbody tr th {\n",
       "        vertical-align: top;\n",
       "    }\n",
       "\n",
       "    .dataframe thead th {\n",
       "        text-align: right;\n",
       "    }\n",
       "</style>\n",
       "<table border=\"1\" class=\"dataframe\">\n",
       "  <thead>\n",
       "    <tr style=\"text-align: right;\">\n",
       "      <th></th>\n",
       "      <th>count</th>\n",
       "      <th>body_camera</th>\n",
       "      <th>no_body_camera</th>\n",
       "    </tr>\n",
       "    <tr>\n",
       "      <th>city</th>\n",
       "      <th></th>\n",
       "      <th></th>\n",
       "      <th></th>\n",
       "    </tr>\n",
       "  </thead>\n",
       "  <tbody>\n",
       "    <tr>\n",
       "      <th>Los Angeles</th>\n",
       "      <td>120</td>\n",
       "      <td>25</td>\n",
       "      <td>95</td>\n",
       "    </tr>\n",
       "    <tr>\n",
       "      <th>Phoenix</th>\n",
       "      <td>101</td>\n",
       "      <td>15</td>\n",
       "      <td>86</td>\n",
       "    </tr>\n",
       "    <tr>\n",
       "      <th>Houston</th>\n",
       "      <td>83</td>\n",
       "      <td>20</td>\n",
       "      <td>63</td>\n",
       "    </tr>\n",
       "    <tr>\n",
       "      <th>San Antonio</th>\n",
       "      <td>66</td>\n",
       "      <td>11</td>\n",
       "      <td>55</td>\n",
       "    </tr>\n",
       "    <tr>\n",
       "      <th>Las Vegas</th>\n",
       "      <td>62</td>\n",
       "      <td>28</td>\n",
       "      <td>34</td>\n",
       "    </tr>\n",
       "    <tr>\n",
       "      <th>Albuquerque</th>\n",
       "      <td>52</td>\n",
       "      <td>10</td>\n",
       "      <td>42</td>\n",
       "    </tr>\n",
       "    <tr>\n",
       "      <th>Chicago</th>\n",
       "      <td>49</td>\n",
       "      <td>12</td>\n",
       "      <td>37</td>\n",
       "    </tr>\n",
       "    <tr>\n",
       "      <th>Denver</th>\n",
       "      <td>46</td>\n",
       "      <td>2</td>\n",
       "      <td>44</td>\n",
       "    </tr>\n",
       "    <tr>\n",
       "      <th>Columbus</th>\n",
       "      <td>46</td>\n",
       "      <td>7</td>\n",
       "      <td>39</td>\n",
       "    </tr>\n",
       "    <tr>\n",
       "      <th>Kansas City</th>\n",
       "      <td>42</td>\n",
       "      <td>3</td>\n",
       "      <td>39</td>\n",
       "    </tr>\n",
       "    <tr>\n",
       "      <th>Jacksonville</th>\n",
       "      <td>42</td>\n",
       "      <td>9</td>\n",
       "      <td>33</td>\n",
       "    </tr>\n",
       "    <tr>\n",
       "      <th>Tucson</th>\n",
       "      <td>42</td>\n",
       "      <td>6</td>\n",
       "      <td>36</td>\n",
       "    </tr>\n",
       "    <tr>\n",
       "      <th>Austin</th>\n",
       "      <td>40</td>\n",
       "      <td>9</td>\n",
       "      <td>31</td>\n",
       "    </tr>\n",
       "    <tr>\n",
       "      <th>New York</th>\n",
       "      <td>40</td>\n",
       "      <td>9</td>\n",
       "      <td>31</td>\n",
       "    </tr>\n",
       "    <tr>\n",
       "      <th>Oklahoma City</th>\n",
       "      <td>39</td>\n",
       "      <td>15</td>\n",
       "      <td>24</td>\n",
       "    </tr>\n",
       "    <tr>\n",
       "      <th>Miami</th>\n",
       "      <td>37</td>\n",
       "      <td>2</td>\n",
       "      <td>35</td>\n",
       "    </tr>\n",
       "    <tr>\n",
       "      <th>Bakersfield</th>\n",
       "      <td>34</td>\n",
       "      <td>10</td>\n",
       "      <td>24</td>\n",
       "    </tr>\n",
       "    <tr>\n",
       "      <th>St. Louis</th>\n",
       "      <td>34</td>\n",
       "      <td>0</td>\n",
       "      <td>34</td>\n",
       "    </tr>\n",
       "    <tr>\n",
       "      <th>Tulsa</th>\n",
       "      <td>33</td>\n",
       "      <td>4</td>\n",
       "      <td>29</td>\n",
       "    </tr>\n",
       "    <tr>\n",
       "      <th>Atlanta</th>\n",
       "      <td>31</td>\n",
       "      <td>3</td>\n",
       "      <td>28</td>\n",
       "    </tr>\n",
       "  </tbody>\n",
       "</table>\n",
       "</div>"
      ],
      "text/plain": [
       "               count  body_camera  no_body_camera\n",
       "city                                             \n",
       "Los Angeles      120           25              95\n",
       "Phoenix          101           15              86\n",
       "Houston           83           20              63\n",
       "San Antonio       66           11              55\n",
       "Las Vegas         62           28              34\n",
       "Albuquerque       52           10              42\n",
       "Chicago           49           12              37\n",
       "Denver            46            2              44\n",
       "Columbus          46            7              39\n",
       "Kansas City       42            3              39\n",
       "Jacksonville      42            9              33\n",
       "Tucson            42            6              36\n",
       "Austin            40            9              31\n",
       "New York          40            9              31\n",
       "Oklahoma City     39           15              24\n",
       "Miami             37            2              35\n",
       "Bakersfield       34           10              24\n",
       "St. Louis         34            0              34\n",
       "Tulsa             33            4              29\n",
       "Atlanta           31            3              28"
      ]
     },
     "execution_count": 121,
     "metadata": {},
     "output_type": "execute_result"
    }
   ],
   "source": [
    "top20_cams"
   ]
  },
  {
   "cell_type": "code",
   "execution_count": 176,
   "id": "770c0ac6",
   "metadata": {},
   "outputs": [],
   "source": [
    "#top20_cams['city'] = top20_cams.index.values"
   ]
  },
  {
   "cell_type": "code",
   "execution_count": 122,
   "id": "ead8fa7a",
   "metadata": {},
   "outputs": [
    {
     "data": {
      "text/html": [
       "<div>\n",
       "<style scoped>\n",
       "    .dataframe tbody tr th:only-of-type {\n",
       "        vertical-align: middle;\n",
       "    }\n",
       "\n",
       "    .dataframe tbody tr th {\n",
       "        vertical-align: top;\n",
       "    }\n",
       "\n",
       "    .dataframe thead th {\n",
       "        text-align: right;\n",
       "    }\n",
       "</style>\n",
       "<table border=\"1\" class=\"dataframe\">\n",
       "  <thead>\n",
       "    <tr style=\"text-align: right;\">\n",
       "      <th></th>\n",
       "      <th>count</th>\n",
       "      <th>body_camera</th>\n",
       "      <th>no_body_camera</th>\n",
       "    </tr>\n",
       "    <tr>\n",
       "      <th>city</th>\n",
       "      <th></th>\n",
       "      <th></th>\n",
       "      <th></th>\n",
       "    </tr>\n",
       "  </thead>\n",
       "  <tbody>\n",
       "    <tr>\n",
       "      <th>Los Angeles</th>\n",
       "      <td>120</td>\n",
       "      <td>25</td>\n",
       "      <td>95</td>\n",
       "    </tr>\n",
       "    <tr>\n",
       "      <th>Phoenix</th>\n",
       "      <td>101</td>\n",
       "      <td>15</td>\n",
       "      <td>86</td>\n",
       "    </tr>\n",
       "    <tr>\n",
       "      <th>Houston</th>\n",
       "      <td>83</td>\n",
       "      <td>20</td>\n",
       "      <td>63</td>\n",
       "    </tr>\n",
       "    <tr>\n",
       "      <th>San Antonio</th>\n",
       "      <td>66</td>\n",
       "      <td>11</td>\n",
       "      <td>55</td>\n",
       "    </tr>\n",
       "    <tr>\n",
       "      <th>Las Vegas</th>\n",
       "      <td>62</td>\n",
       "      <td>28</td>\n",
       "      <td>34</td>\n",
       "    </tr>\n",
       "    <tr>\n",
       "      <th>Albuquerque</th>\n",
       "      <td>52</td>\n",
       "      <td>10</td>\n",
       "      <td>42</td>\n",
       "    </tr>\n",
       "    <tr>\n",
       "      <th>Chicago</th>\n",
       "      <td>49</td>\n",
       "      <td>12</td>\n",
       "      <td>37</td>\n",
       "    </tr>\n",
       "    <tr>\n",
       "      <th>Denver</th>\n",
       "      <td>46</td>\n",
       "      <td>2</td>\n",
       "      <td>44</td>\n",
       "    </tr>\n",
       "    <tr>\n",
       "      <th>Columbus</th>\n",
       "      <td>46</td>\n",
       "      <td>7</td>\n",
       "      <td>39</td>\n",
       "    </tr>\n",
       "    <tr>\n",
       "      <th>Kansas City</th>\n",
       "      <td>42</td>\n",
       "      <td>3</td>\n",
       "      <td>39</td>\n",
       "    </tr>\n",
       "    <tr>\n",
       "      <th>Jacksonville</th>\n",
       "      <td>42</td>\n",
       "      <td>9</td>\n",
       "      <td>33</td>\n",
       "    </tr>\n",
       "    <tr>\n",
       "      <th>Tucson</th>\n",
       "      <td>42</td>\n",
       "      <td>6</td>\n",
       "      <td>36</td>\n",
       "    </tr>\n",
       "    <tr>\n",
       "      <th>Austin</th>\n",
       "      <td>40</td>\n",
       "      <td>9</td>\n",
       "      <td>31</td>\n",
       "    </tr>\n",
       "    <tr>\n",
       "      <th>New York</th>\n",
       "      <td>40</td>\n",
       "      <td>9</td>\n",
       "      <td>31</td>\n",
       "    </tr>\n",
       "    <tr>\n",
       "      <th>Oklahoma City</th>\n",
       "      <td>39</td>\n",
       "      <td>15</td>\n",
       "      <td>24</td>\n",
       "    </tr>\n",
       "    <tr>\n",
       "      <th>Miami</th>\n",
       "      <td>37</td>\n",
       "      <td>2</td>\n",
       "      <td>35</td>\n",
       "    </tr>\n",
       "    <tr>\n",
       "      <th>Bakersfield</th>\n",
       "      <td>34</td>\n",
       "      <td>10</td>\n",
       "      <td>24</td>\n",
       "    </tr>\n",
       "    <tr>\n",
       "      <th>St. Louis</th>\n",
       "      <td>34</td>\n",
       "      <td>0</td>\n",
       "      <td>34</td>\n",
       "    </tr>\n",
       "    <tr>\n",
       "      <th>Tulsa</th>\n",
       "      <td>33</td>\n",
       "      <td>4</td>\n",
       "      <td>29</td>\n",
       "    </tr>\n",
       "    <tr>\n",
       "      <th>Atlanta</th>\n",
       "      <td>31</td>\n",
       "      <td>3</td>\n",
       "      <td>28</td>\n",
       "    </tr>\n",
       "  </tbody>\n",
       "</table>\n",
       "</div>"
      ],
      "text/plain": [
       "               count  body_camera  no_body_camera\n",
       "city                                             \n",
       "Los Angeles      120           25              95\n",
       "Phoenix          101           15              86\n",
       "Houston           83           20              63\n",
       "San Antonio       66           11              55\n",
       "Las Vegas         62           28              34\n",
       "Albuquerque       52           10              42\n",
       "Chicago           49           12              37\n",
       "Denver            46            2              44\n",
       "Columbus          46            7              39\n",
       "Kansas City       42            3              39\n",
       "Jacksonville      42            9              33\n",
       "Tucson            42            6              36\n",
       "Austin            40            9              31\n",
       "New York          40            9              31\n",
       "Oklahoma City     39           15              24\n",
       "Miami             37            2              35\n",
       "Bakersfield       34           10              24\n",
       "St. Louis         34            0              34\n",
       "Tulsa             33            4              29\n",
       "Atlanta           31            3              28"
      ]
     },
     "execution_count": 122,
     "metadata": {},
     "output_type": "execute_result"
    }
   ],
   "source": [
    "top20_cams"
   ]
  },
  {
   "cell_type": "code",
   "execution_count": 123,
   "id": "db3d8a62",
   "metadata": {},
   "outputs": [],
   "source": [
    "cities = list(top20_cams.index)\n",
    "top20_race = df.loc[df['city'].isin(cities)]\n"
   ]
  },
  {
   "cell_type": "code",
   "execution_count": 124,
   "id": "5b295cc8",
   "metadata": {},
   "outputs": [
    {
     "data": {
      "text/plain": [
       "Black       0.306064\n",
       "Hispanic    0.273340\n",
       "White       0.229066\n",
       "None        0.167469\n",
       "Asian       0.010587\n",
       "Native      0.010587\n",
       "Other       0.002887\n",
       "Name: race, dtype: float64"
      ]
     },
     "execution_count": 124,
     "metadata": {},
     "output_type": "execute_result"
    }
   ],
   "source": [
    "top20_race['race'].value_counts()/len(top20_race)"
   ]
  },
  {
   "cell_type": "code",
   "execution_count": 125,
   "id": "c37b812b",
   "metadata": {},
   "outputs": [],
   "source": [
    "shot_by_race = df['race'].value_counts()"
   ]
  },
  {
   "cell_type": "code",
   "execution_count": 126,
   "id": "38292b1b",
   "metadata": {},
   "outputs": [],
   "source": [
    "# most people killed are white\n",
    "# 18.5% of shootings don't have race reported"
   ]
  },
  {
   "cell_type": "code",
   "execution_count": 127,
   "id": "02093afd",
   "metadata": {},
   "outputs": [
    {
     "data": {
      "text/plain": [
       "White       0.416218\n",
       "Black       0.220181\n",
       "None        0.184097\n",
       "Hispanic    0.145781\n",
       "Asian       0.014696\n",
       "Native      0.012466\n",
       "Other       0.006561\n",
       "Name: race, dtype: float64"
      ]
     },
     "execution_count": 127,
     "metadata": {},
     "output_type": "execute_result"
    }
   ],
   "source": [
    "# according to Census Bureau Quick Fact Sheet https://www.census.gov/quickfacts/fact/table/US/PST045221\n",
    "# -- White: 75.8%, White not hispanic: 59.3%, Black: 13.6%, Asian alone: 6.1%, Hispanic/Latino: 18.9%, \n",
    "# Native American: 1.3%, Hawaiian Pacific Islander: 0.3%\n",
    "\n",
    "race_prop = shot_by_race/len(df)\n",
    "race_prop"
   ]
  },
  {
   "cell_type": "code",
   "execution_count": 128,
   "id": "990ef106",
   "metadata": {},
   "outputs": [],
   "source": [
    "# account for population race proportions\n",
    "race = {'White':'W','Black':'B', 'Asian':'A','Hispanic':'H', 'Native':'N','Other':'O', 'None':'No'}\n",
    "by_race = df[['race','year','armed_3']].groupby(['race','year']).count().reset_index()\n",
    "by_race['race'] = by_race['race'].map(race)\n",
    "by_race.rename(columns={'armed_3':'number_of_deaths'}, inplace=True)"
   ]
  },
  {
   "cell_type": "code",
   "execution_count": 129,
   "id": "33e35928",
   "metadata": {},
   "outputs": [],
   "source": [
    "pop = pd.DataFrame({'race':['W','B','H','A','N','O'],\n",
    "'2020_population':[0.593, 0.136, 0.189, 0.061, 0.013, 0.008]})\n",
    "pop['2020_population'] = pop['2020_population']*331.5"
   ]
  },
  {
   "cell_type": "code",
   "execution_count": 130,
   "id": "03aa997d",
   "metadata": {},
   "outputs": [
    {
     "data": {
      "text/html": [
       "<div>\n",
       "<style scoped>\n",
       "    .dataframe tbody tr th:only-of-type {\n",
       "        vertical-align: middle;\n",
       "    }\n",
       "\n",
       "    .dataframe tbody tr th {\n",
       "        vertical-align: top;\n",
       "    }\n",
       "\n",
       "    .dataframe thead th {\n",
       "        text-align: right;\n",
       "    }\n",
       "</style>\n",
       "<table border=\"1\" class=\"dataframe\">\n",
       "  <thead>\n",
       "    <tr style=\"text-align: right;\">\n",
       "      <th></th>\n",
       "      <th>race</th>\n",
       "      <th>year</th>\n",
       "      <th>number_of_deaths</th>\n",
       "      <th>2020_population</th>\n",
       "      <th>deaths_per_mil</th>\n",
       "    </tr>\n",
       "  </thead>\n",
       "  <tbody>\n",
       "    <tr>\n",
       "      <th>0</th>\n",
       "      <td>A</td>\n",
       "      <td>2015</td>\n",
       "      <td>15</td>\n",
       "      <td>20.2215</td>\n",
       "      <td>0.741785</td>\n",
       "    </tr>\n",
       "    <tr>\n",
       "      <th>1</th>\n",
       "      <td>A</td>\n",
       "      <td>2016</td>\n",
       "      <td>16</td>\n",
       "      <td>20.2215</td>\n",
       "      <td>0.791237</td>\n",
       "    </tr>\n",
       "    <tr>\n",
       "      <th>2</th>\n",
       "      <td>A</td>\n",
       "      <td>2017</td>\n",
       "      <td>17</td>\n",
       "      <td>20.2215</td>\n",
       "      <td>0.840689</td>\n",
       "    </tr>\n",
       "    <tr>\n",
       "      <th>3</th>\n",
       "      <td>A</td>\n",
       "      <td>2018</td>\n",
       "      <td>21</td>\n",
       "      <td>20.2215</td>\n",
       "      <td>1.038499</td>\n",
       "    </tr>\n",
       "    <tr>\n",
       "      <th>4</th>\n",
       "      <td>A</td>\n",
       "      <td>2019</td>\n",
       "      <td>21</td>\n",
       "      <td>20.2215</td>\n",
       "      <td>1.038499</td>\n",
       "    </tr>\n",
       "  </tbody>\n",
       "</table>\n",
       "</div>"
      ],
      "text/plain": [
       "  race  year  number_of_deaths  2020_population  deaths_per_mil\n",
       "0    A  2015                15          20.2215        0.741785\n",
       "1    A  2016                16          20.2215        0.791237\n",
       "2    A  2017                17          20.2215        0.840689\n",
       "3    A  2018                21          20.2215        1.038499\n",
       "4    A  2019                21          20.2215        1.038499"
      ]
     },
     "execution_count": 130,
     "metadata": {},
     "output_type": "execute_result"
    }
   ],
   "source": [
    "by_race = pd.merge(by_race, pop, on='race')\n",
    "by_race['deaths_per_mil'] = by_race['number_of_deaths'] / by_race['2020_population']\n",
    "by_race.head()"
   ]
  },
  {
   "cell_type": "code",
   "execution_count": 131,
   "id": "e4b4634a",
   "metadata": {},
   "outputs": [
    {
     "data": {
      "text/html": [
       "<div>\n",
       "<style scoped>\n",
       "    .dataframe tbody tr th:only-of-type {\n",
       "        vertical-align: middle;\n",
       "    }\n",
       "\n",
       "    .dataframe tbody tr th {\n",
       "        vertical-align: top;\n",
       "    }\n",
       "\n",
       "    .dataframe thead th {\n",
       "        text-align: right;\n",
       "    }\n",
       "</style>\n",
       "<table border=\"1\" class=\"dataframe\">\n",
       "  <thead>\n",
       "    <tr style=\"text-align: right;\">\n",
       "      <th></th>\n",
       "      <th>race</th>\n",
       "      <th>year</th>\n",
       "      <th>number_of_deaths</th>\n",
       "    </tr>\n",
       "  </thead>\n",
       "  <tbody>\n",
       "    <tr>\n",
       "      <th>0</th>\n",
       "      <td>Asian</td>\n",
       "      <td>2015</td>\n",
       "      <td>15</td>\n",
       "    </tr>\n",
       "    <tr>\n",
       "      <th>1</th>\n",
       "      <td>Asian</td>\n",
       "      <td>2016</td>\n",
       "      <td>16</td>\n",
       "    </tr>\n",
       "    <tr>\n",
       "      <th>2</th>\n",
       "      <td>Asian</td>\n",
       "      <td>2017</td>\n",
       "      <td>17</td>\n",
       "    </tr>\n",
       "    <tr>\n",
       "      <th>3</th>\n",
       "      <td>Asian</td>\n",
       "      <td>2018</td>\n",
       "      <td>21</td>\n",
       "    </tr>\n",
       "    <tr>\n",
       "      <th>4</th>\n",
       "      <td>Asian</td>\n",
       "      <td>2019</td>\n",
       "      <td>21</td>\n",
       "    </tr>\n",
       "  </tbody>\n",
       "</table>\n",
       "</div>"
      ],
      "text/plain": [
       "    race  year  number_of_deaths\n",
       "0  Asian  2015                15\n",
       "1  Asian  2016                16\n",
       "2  Asian  2017                17\n",
       "3  Asian  2018                21\n",
       "4  Asian  2019                21"
      ]
     },
     "execution_count": 131,
     "metadata": {},
     "output_type": "execute_result"
    }
   ],
   "source": [
    "# race (including 'None') as percentage of total\n",
    "#race = {'White':'W','Black':'B', 'Asian':'A','Hispanic':'H', 'Native':'N','Other':'O', 'None':'No'}\n",
    "perc_race = df[['race','year','armed_3']].groupby(['race','year']).count().reset_index()\n",
    "#perc_race['race'] = perc_race['race'].map(race)\n",
    "perc_race.rename(columns={'armed_3':'number_of_deaths'}, inplace=True)\n",
    "perc_race.head() "
   ]
  },
  {
   "cell_type": "code",
   "execution_count": 132,
   "id": "ad5199cc",
   "metadata": {},
   "outputs": [
    {
     "data": {
      "text/plain": [
       "array(['Asian', 'Hispanic', 'White', 'Native', 'Other', 'Black', 'None'],\n",
       "      dtype=object)"
      ]
     },
     "execution_count": 132,
     "metadata": {},
     "output_type": "execute_result"
    }
   ],
   "source": [
    "df.race.unique()"
   ]
  },
  {
   "cell_type": "code",
   "execution_count": 133,
   "id": "baf0edbb",
   "metadata": {},
   "outputs": [],
   "source": [
    "# 343 fatal police shootings were of women\n",
    "fem = df[df['gender'] == 'F']\n",
    "# race breakdown\n",
    "# account for population race proportions\n",
    "race = {'White':'White','Black':'B', 'Hispanic':'H', 'Asian':'A', 'Native':'N','Other':'O', 'None':'No'}\n",
    "fem_by_race = fem[['race','year','armed_3']].groupby(['race','year']).count().reset_index()\n",
    "#fem_by_race['race'] = fem_by_race['race'].map(race)\n",
    "fem_by_race.rename(columns={'armed_3':'number_of_deaths'}, inplace=True)\n",
    "#fem_by_race.head(20)"
   ]
  },
  {
   "cell_type": "code",
   "execution_count": 134,
   "id": "86ddd976",
   "metadata": {},
   "outputs": [],
   "source": [
    "#fem_by_race = pd.merge(fem_by_race, pop, on='race')\n",
    "#fem_by_race['deaths_per_mil'] = fem_by_race['number_of_deaths'] / (fem_by_race['2020_population']/2) \n",
    "# /2 b/c half pop is theoretically female"
   ]
  },
  {
   "cell_type": "code",
   "execution_count": 135,
   "id": "7bff2ed3",
   "metadata": {},
   "outputs": [],
   "source": [
    "fem_by_race = fem_by_race.sort_values(by='year')"
   ]
  },
  {
   "cell_type": "code",
   "execution_count": 136,
   "id": "1d36cd9f",
   "metadata": {},
   "outputs": [
    {
     "data": {
      "text/html": [
       "<div>\n",
       "<style scoped>\n",
       "    .dataframe tbody tr th:only-of-type {\n",
       "        vertical-align: middle;\n",
       "    }\n",
       "\n",
       "    .dataframe tbody tr th {\n",
       "        vertical-align: top;\n",
       "    }\n",
       "\n",
       "    .dataframe thead th {\n",
       "        text-align: right;\n",
       "    }\n",
       "</style>\n",
       "<table border=\"1\" class=\"dataframe\">\n",
       "  <thead>\n",
       "    <tr style=\"text-align: right;\">\n",
       "      <th></th>\n",
       "      <th>race</th>\n",
       "      <th>year</th>\n",
       "      <th>number_of_deaths</th>\n",
       "    </tr>\n",
       "  </thead>\n",
       "  <tbody>\n",
       "    <tr>\n",
       "      <th>0</th>\n",
       "      <td>Asian</td>\n",
       "      <td>2015</td>\n",
       "      <td>1</td>\n",
       "    </tr>\n",
       "    <tr>\n",
       "      <th>31</th>\n",
       "      <td>White</td>\n",
       "      <td>2015</td>\n",
       "      <td>27</td>\n",
       "    </tr>\n",
       "    <tr>\n",
       "      <th>14</th>\n",
       "      <td>Hispanic</td>\n",
       "      <td>2015</td>\n",
       "      <td>3</td>\n",
       "    </tr>\n",
       "    <tr>\n",
       "      <th>6</th>\n",
       "      <td>Black</td>\n",
       "      <td>2015</td>\n",
       "      <td>10</td>\n",
       "    </tr>\n",
       "    <tr>\n",
       "      <th>28</th>\n",
       "      <td>Other</td>\n",
       "      <td>2015</td>\n",
       "      <td>1</td>\n",
       "    </tr>\n",
       "    <tr>\n",
       "      <th>15</th>\n",
       "      <td>Hispanic</td>\n",
       "      <td>2016</td>\n",
       "      <td>1</td>\n",
       "    </tr>\n",
       "    <tr>\n",
       "      <th>21</th>\n",
       "      <td>Native</td>\n",
       "      <td>2016</td>\n",
       "      <td>5</td>\n",
       "    </tr>\n",
       "    <tr>\n",
       "      <th>32</th>\n",
       "      <td>White</td>\n",
       "      <td>2016</td>\n",
       "      <td>24</td>\n",
       "    </tr>\n",
       "    <tr>\n",
       "      <th>7</th>\n",
       "      <td>Black</td>\n",
       "      <td>2016</td>\n",
       "      <td>11</td>\n",
       "    </tr>\n",
       "    <tr>\n",
       "      <th>8</th>\n",
       "      <td>Black</td>\n",
       "      <td>2017</td>\n",
       "      <td>9</td>\n",
       "    </tr>\n",
       "    <tr>\n",
       "      <th>22</th>\n",
       "      <td>None</td>\n",
       "      <td>2017</td>\n",
       "      <td>2</td>\n",
       "    </tr>\n",
       "    <tr>\n",
       "      <th>1</th>\n",
       "      <td>Asian</td>\n",
       "      <td>2017</td>\n",
       "      <td>1</td>\n",
       "    </tr>\n",
       "    <tr>\n",
       "      <th>33</th>\n",
       "      <td>White</td>\n",
       "      <td>2017</td>\n",
       "      <td>28</td>\n",
       "    </tr>\n",
       "    <tr>\n",
       "      <th>16</th>\n",
       "      <td>Hispanic</td>\n",
       "      <td>2017</td>\n",
       "      <td>6</td>\n",
       "    </tr>\n",
       "    <tr>\n",
       "      <th>23</th>\n",
       "      <td>None</td>\n",
       "      <td>2018</td>\n",
       "      <td>2</td>\n",
       "    </tr>\n",
       "    <tr>\n",
       "      <th>17</th>\n",
       "      <td>Hispanic</td>\n",
       "      <td>2018</td>\n",
       "      <td>8</td>\n",
       "    </tr>\n",
       "    <tr>\n",
       "      <th>2</th>\n",
       "      <td>Asian</td>\n",
       "      <td>2018</td>\n",
       "      <td>1</td>\n",
       "    </tr>\n",
       "    <tr>\n",
       "      <th>29</th>\n",
       "      <td>Other</td>\n",
       "      <td>2018</td>\n",
       "      <td>1</td>\n",
       "    </tr>\n",
       "    <tr>\n",
       "      <th>34</th>\n",
       "      <td>White</td>\n",
       "      <td>2018</td>\n",
       "      <td>28</td>\n",
       "    </tr>\n",
       "    <tr>\n",
       "      <th>9</th>\n",
       "      <td>Black</td>\n",
       "      <td>2018</td>\n",
       "      <td>11</td>\n",
       "    </tr>\n",
       "    <tr>\n",
       "      <th>18</th>\n",
       "      <td>Hispanic</td>\n",
       "      <td>2019</td>\n",
       "      <td>9</td>\n",
       "    </tr>\n",
       "    <tr>\n",
       "      <th>3</th>\n",
       "      <td>Asian</td>\n",
       "      <td>2019</td>\n",
       "      <td>1</td>\n",
       "    </tr>\n",
       "    <tr>\n",
       "      <th>10</th>\n",
       "      <td>Black</td>\n",
       "      <td>2019</td>\n",
       "      <td>6</td>\n",
       "    </tr>\n",
       "    <tr>\n",
       "      <th>24</th>\n",
       "      <td>None</td>\n",
       "      <td>2019</td>\n",
       "      <td>1</td>\n",
       "    </tr>\n",
       "    <tr>\n",
       "      <th>35</th>\n",
       "      <td>White</td>\n",
       "      <td>2019</td>\n",
       "      <td>26</td>\n",
       "    </tr>\n",
       "    <tr>\n",
       "      <th>30</th>\n",
       "      <td>Other</td>\n",
       "      <td>2020</td>\n",
       "      <td>1</td>\n",
       "    </tr>\n",
       "    <tr>\n",
       "      <th>36</th>\n",
       "      <td>White</td>\n",
       "      <td>2020</td>\n",
       "      <td>25</td>\n",
       "    </tr>\n",
       "    <tr>\n",
       "      <th>19</th>\n",
       "      <td>Hispanic</td>\n",
       "      <td>2020</td>\n",
       "      <td>5</td>\n",
       "    </tr>\n",
       "    <tr>\n",
       "      <th>25</th>\n",
       "      <td>None</td>\n",
       "      <td>2020</td>\n",
       "      <td>4</td>\n",
       "    </tr>\n",
       "    <tr>\n",
       "      <th>11</th>\n",
       "      <td>Black</td>\n",
       "      <td>2020</td>\n",
       "      <td>2</td>\n",
       "    </tr>\n",
       "    <tr>\n",
       "      <th>4</th>\n",
       "      <td>Asian</td>\n",
       "      <td>2020</td>\n",
       "      <td>1</td>\n",
       "    </tr>\n",
       "    <tr>\n",
       "      <th>26</th>\n",
       "      <td>None</td>\n",
       "      <td>2021</td>\n",
       "      <td>23</td>\n",
       "    </tr>\n",
       "    <tr>\n",
       "      <th>20</th>\n",
       "      <td>Hispanic</td>\n",
       "      <td>2021</td>\n",
       "      <td>1</td>\n",
       "    </tr>\n",
       "    <tr>\n",
       "      <th>37</th>\n",
       "      <td>White</td>\n",
       "      <td>2021</td>\n",
       "      <td>27</td>\n",
       "    </tr>\n",
       "    <tr>\n",
       "      <th>12</th>\n",
       "      <td>Black</td>\n",
       "      <td>2021</td>\n",
       "      <td>5</td>\n",
       "    </tr>\n",
       "    <tr>\n",
       "      <th>13</th>\n",
       "      <td>Black</td>\n",
       "      <td>2022</td>\n",
       "      <td>4</td>\n",
       "    </tr>\n",
       "    <tr>\n",
       "      <th>5</th>\n",
       "      <td>Asian</td>\n",
       "      <td>2022</td>\n",
       "      <td>2</td>\n",
       "    </tr>\n",
       "    <tr>\n",
       "      <th>27</th>\n",
       "      <td>None</td>\n",
       "      <td>2022</td>\n",
       "      <td>19</td>\n",
       "    </tr>\n",
       "    <tr>\n",
       "      <th>38</th>\n",
       "      <td>White</td>\n",
       "      <td>2022</td>\n",
       "      <td>2</td>\n",
       "    </tr>\n",
       "  </tbody>\n",
       "</table>\n",
       "</div>"
      ],
      "text/plain": [
       "        race  year  number_of_deaths\n",
       "0      Asian  2015                 1\n",
       "31     White  2015                27\n",
       "14  Hispanic  2015                 3\n",
       "6      Black  2015                10\n",
       "28     Other  2015                 1\n",
       "15  Hispanic  2016                 1\n",
       "21    Native  2016                 5\n",
       "32     White  2016                24\n",
       "7      Black  2016                11\n",
       "8      Black  2017                 9\n",
       "22      None  2017                 2\n",
       "1      Asian  2017                 1\n",
       "33     White  2017                28\n",
       "16  Hispanic  2017                 6\n",
       "23      None  2018                 2\n",
       "17  Hispanic  2018                 8\n",
       "2      Asian  2018                 1\n",
       "29     Other  2018                 1\n",
       "34     White  2018                28\n",
       "9      Black  2018                11\n",
       "18  Hispanic  2019                 9\n",
       "3      Asian  2019                 1\n",
       "10     Black  2019                 6\n",
       "24      None  2019                 1\n",
       "35     White  2019                26\n",
       "30     Other  2020                 1\n",
       "36     White  2020                25\n",
       "19  Hispanic  2020                 5\n",
       "25      None  2020                 4\n",
       "11     Black  2020                 2\n",
       "4      Asian  2020                 1\n",
       "26      None  2021                23\n",
       "20  Hispanic  2021                 1\n",
       "37     White  2021                27\n",
       "12     Black  2021                 5\n",
       "13     Black  2022                 4\n",
       "5      Asian  2022                 2\n",
       "27      None  2022                19\n",
       "38     White  2022                 2"
      ]
     },
     "execution_count": 136,
     "metadata": {},
     "output_type": "execute_result"
    }
   ],
   "source": [
    "fem_by_race"
   ]
  },
  {
   "cell_type": "code",
   "execution_count": 137,
   "id": "8175ae74",
   "metadata": {},
   "outputs": [
    {
     "data": {
      "text/plain": [
       "White       0.543605\n",
       "Black       0.168605\n",
       "None        0.148256\n",
       "Hispanic    0.095930\n",
       "Asian       0.020349\n",
       "Native      0.014535\n",
       "Other       0.008721\n",
       "Name: race, dtype: float64"
      ]
     },
     "execution_count": 137,
     "metadata": {},
     "output_type": "execute_result"
    }
   ],
   "source": [
    "fem['race'].value_counts()/len(fem)"
   ]
  },
  {
   "cell_type": "code",
   "execution_count": 138,
   "id": "2bc54651",
   "metadata": {},
   "outputs": [],
   "source": [
    "#df['race'].value_counts()\n",
    "# (331.5*[0.593, 0.136, 0.189, 0.061, 0.013, 0.008]) == 196 W, 45 B, 63 H, 20 A, 4.3 N, 3 O \n",
    "#df[df['race']]\n",
    "# if use this information, can make graphic simialr to last one on WaPo page"
   ]
  },
  {
   "cell_type": "code",
   "execution_count": 139,
   "id": "458fcaa0",
   "metadata": {},
   "outputs": [],
   "source": [
    "# an interesting pattern here"
   ]
  },
  {
   "cell_type": "code",
   "execution_count": 140,
   "id": "d87d2b39",
   "metadata": {},
   "outputs": [],
   "source": [
    "unarmed = df[df['armed_4'] == 'unarmed']\n",
    "# 705 total unarmed\n",
    "unarmed_by_race = unarmed['race'].value_counts()\n",
    "unarmed_race_prop = unarmed_by_race/len(unarmed)\n",
    "\n",
    "gun = df[df['armed_4'] == 'gun']\n",
    "# 4414 total armed with gun\n",
    "gun_by_race = gun['race'].value_counts()\n",
    "gun_race_prop = gun_by_race/len(gun)"
   ]
  },
  {
   "cell_type": "code",
   "execution_count": 141,
   "id": "cabc541e",
   "metadata": {},
   "outputs": [
    {
     "data": {
      "text/plain": [
       "White       0.444759\n",
       "Black       0.269122\n",
       "Hispanic    0.164306\n",
       "None        0.086402\n",
       "Asian       0.016997\n",
       "Native      0.011331\n",
       "Other       0.007082\n",
       "Name: race, dtype: float64"
      ]
     },
     "execution_count": 141,
     "metadata": {},
     "output_type": "execute_result"
    }
   ],
   "source": [
    "unarmed_race_prop"
   ]
  },
  {
   "cell_type": "code",
   "execution_count": 142,
   "id": "f186be82",
   "metadata": {},
   "outputs": [
    {
     "data": {
      "text/plain": [
       "White       0.423817\n",
       "Black       0.234775\n",
       "None        0.183382\n",
       "Hispanic    0.131537\n",
       "Native      0.011320\n",
       "Asian       0.010414\n",
       "Other       0.004754\n",
       "Name: race, dtype: float64"
      ]
     },
     "execution_count": 142,
     "metadata": {},
     "output_type": "execute_result"
    }
   ],
   "source": [
    "gun_race_prop"
   ]
  },
  {
   "cell_type": "code",
   "execution_count": 143,
   "id": "f0177f05",
   "metadata": {},
   "outputs": [],
   "source": [
    "no_none = df.copy()\n",
    "no_none = no_none[no_none['race'] != 'None']"
   ]
  },
  {
   "cell_type": "code",
   "execution_count": 144,
   "id": "86a5c95b",
   "metadata": {},
   "outputs": [
    {
     "data": {
      "text/plain": [
       "White       0.510132\n",
       "Black       0.269862\n",
       "Hispanic    0.178675\n",
       "Asian       0.018012\n",
       "Native      0.015278\n",
       "Other       0.008041\n",
       "Name: race, dtype: float64"
      ]
     },
     "execution_count": 144,
     "metadata": {},
     "output_type": "execute_result"
    }
   ],
   "source": [
    "no_none['race'].value_counts()/len(no_none)\n",
    "# percentages change when None race is removed"
   ]
  },
  {
   "cell_type": "markdown",
   "id": "c3a398df",
   "metadata": {},
   "source": [
    "85% of deadly police shootings did not have body cam footage"
   ]
  },
  {
   "cell_type": "markdown",
   "id": "e14c7e09",
   "metadata": {},
   "source": [
    "a significant number of shootings do not have race reported"
   ]
  },
  {
   "cell_type": "code",
   "execution_count": 209,
   "id": "ef857109",
   "metadata": {},
   "outputs": [],
   "source": [
    "# export important dataframes as csv\n",
    "dataframe = (by_race, perc_race, shot_by_state, adj_shot_by_state, shot_by_city, shot_by_race, d, cams_by_city, top20_cams,\n",
    " top20_cams_by_year, fem_by_race, unarmed_by_race, gun_by_race, no_none)\n",
    "names = ('by_race', 'perc_race', 'shot_by_state', 'adj_shot_by_state', 'shot_by_city', 'shot_by_race', 'd', 'cams_by_city', 'top20_cams',\n",
    " 'top20_cams_by_year', 'fem_by_race', 'unarmed_by_race', 'gun_by_race', 'no_none')\n"
   ]
  },
  {
   "cell_type": "code",
   "execution_count": 213,
   "id": "1004a800",
   "metadata": {},
   "outputs": [
    {
     "name": "stdout",
     "output_type": "stream",
     "text": [
      "by_race\n",
      "perc_race\n",
      "shot_by_state\n",
      "adj_shot_by_state\n",
      "shot_by_city\n",
      "shot_by_race\n",
      "d\n",
      "cams_by_city\n",
      "top20_cams\n",
      "top20_cams_by_year\n",
      "fem_by_race\n",
      "unarmed_by_race\n",
      "gun_by_race\n",
      "no_none\n"
     ]
    }
   ],
   "source": [
    "x = zip(names, dataframes)\n",
    "for (name, data) in x: \n",
    "    df = data\n",
    "    name = name\n",
    "    path = f'{name}.csv'\n",
    "    df.to_csv(path)"
   ]
  },
  {
   "cell_type": "code",
   "execution_count": 145,
   "id": "6bffb1bd",
   "metadata": {},
   "outputs": [],
   "source": [
    "df.to_csv(f'full_df.csv')"
   ]
  },
  {
   "cell_type": "code",
   "execution_count": null,
   "id": "e8a9a228",
   "metadata": {},
   "outputs": [],
   "source": []
  }
 ],
 "metadata": {
  "kernelspec": {
   "display_name": "Python 3 (ipykernel)",
   "language": "python",
   "name": "python3"
  },
  "language_info": {
   "codemirror_mode": {
    "name": "ipython",
    "version": 3
   },
   "file_extension": ".py",
   "mimetype": "text/x-python",
   "name": "python",
   "nbconvert_exporter": "python",
   "pygments_lexer": "ipython3",
   "version": "3.9.10"
  }
 },
 "nbformat": 4,
 "nbformat_minor": 5
}
